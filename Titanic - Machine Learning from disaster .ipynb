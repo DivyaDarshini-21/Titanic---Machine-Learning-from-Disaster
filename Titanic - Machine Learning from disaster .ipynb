{
 "cells": [
  {
   "cell_type": "code",
   "execution_count": 1,
   "metadata": {
    "_cell_guid": "b1076dfc-b9ad-4769-8c92-a6c4dae69d19",
    "_uuid": "8f2839f25d086af736a60e9eeb907d3b93b6e0e5",
    "execution": {
     "iopub.execute_input": "2021-05-27T14:17:19.618608Z",
     "iopub.status.busy": "2021-05-27T14:17:19.618020Z",
     "iopub.status.idle": "2021-05-27T14:17:20.626381Z",
     "shell.execute_reply": "2021-05-27T14:17:20.626815Z"
    },
    "papermill": {
     "duration": 1.05298,
     "end_time": "2021-05-27T14:17:20.626969",
     "exception": false,
     "start_time": "2021-05-27T14:17:19.573989",
     "status": "completed"
    },
    "tags": []
   },
   "outputs": [
    {
     "name": "stdout",
     "output_type": "stream",
     "text": [
      "/kaggle/input/titanic/train.csv\n",
      "/kaggle/input/titanic/test.csv\n",
      "/kaggle/input/titanic/gender_submission.csv\n"
     ]
    }
   ],
   "source": [
    "# This Python 3 environment comes with many helpful analytics libraries installed\n",
    "# It is defined by the kaggle/python Docker image: https://github.com/kaggle/docker-python\n",
    "# For example, here's several helpful packages to load\n",
    "\n",
    "import numpy as np \n",
    "import pandas as pd \n",
    "import matplotlib.pyplot as plt\n",
    "import seaborn as sns\n",
    "\n",
    "# Input data files are available in the read-only \"../input/\" directory\n",
    "# For example, running this (by clicking run or pressing Shift+Enter) will list all files under the input directory\n",
    "\n",
    "import os\n",
    "for dirname, _, filenames in os.walk('/kaggle/input'):\n",
    "    for filename in filenames:\n",
    "        print(os.path.join(dirname, filename))\n",
    "\n",
    "# You can write up to 20GB to the current directory (/kaggle/working/) that gets preserved as output when you create a version using \"Save & Run All\" \n",
    "# You can also write temporary files to /kaggle/temp/, but they won't be saved outside of the current session"
   ]
  },
  {
   "cell_type": "code",
   "execution_count": 2,
   "metadata": {
    "_cell_guid": "79c7e3d0-c299-4dcb-8224-4455121ee9b0",
    "_uuid": "d629ff2d2480ee46fbb7e2d37f6b5fab8052498a",
    "execution": {
     "iopub.execute_input": "2021-05-27T14:17:20.706968Z",
     "iopub.status.busy": "2021-05-27T14:17:20.706409Z",
     "iopub.status.idle": "2021-05-27T14:17:20.742012Z",
     "shell.execute_reply": "2021-05-27T14:17:20.741468Z"
    },
    "papermill": {
     "duration": 0.076938,
     "end_time": "2021-05-27T14:17:20.742127",
     "exception": false,
     "start_time": "2021-05-27T14:17:20.665189",
     "status": "completed"
    },
    "tags": []
   },
   "outputs": [],
   "source": [
    "train = pd.read_csv('/kaggle/input/titanic/train.csv')\n",
    "test = pd.read_csv('/kaggle/input/titanic/test.csv')\n",
    "gender_submission = pd.read_csv('/kaggle/input/titanic/gender_submission.csv')"
   ]
  },
  {
   "cell_type": "code",
   "execution_count": 3,
   "metadata": {
    "execution": {
     "iopub.execute_input": "2021-05-27T14:17:20.839595Z",
     "iopub.status.busy": "2021-05-27T14:17:20.838894Z",
     "iopub.status.idle": "2021-05-27T14:17:20.849076Z",
     "shell.execute_reply": "2021-05-27T14:17:20.849488Z"
    },
    "papermill": {
     "duration": 0.068229,
     "end_time": "2021-05-27T14:17:20.849643",
     "exception": false,
     "start_time": "2021-05-27T14:17:20.781414",
     "status": "completed"
    },
    "tags": []
   },
   "outputs": [
    {
     "data": {
      "text/html": [
       "<div>\n",
       "<style scoped>\n",
       "    .dataframe tbody tr th:only-of-type {\n",
       "        vertical-align: middle;\n",
       "    }\n",
       "\n",
       "    .dataframe tbody tr th {\n",
       "        vertical-align: top;\n",
       "    }\n",
       "\n",
       "    .dataframe thead th {\n",
       "        text-align: right;\n",
       "    }\n",
       "</style>\n",
       "<table border=\"1\" class=\"dataframe\">\n",
       "  <thead>\n",
       "    <tr style=\"text-align: right;\">\n",
       "      <th></th>\n",
       "      <th>PassengerId</th>\n",
       "      <th>Survived</th>\n",
       "      <th>Pclass</th>\n",
       "      <th>Name</th>\n",
       "      <th>Sex</th>\n",
       "      <th>Age</th>\n",
       "      <th>SibSp</th>\n",
       "      <th>Parch</th>\n",
       "      <th>Ticket</th>\n",
       "      <th>Fare</th>\n",
       "      <th>Cabin</th>\n",
       "      <th>Embarked</th>\n",
       "    </tr>\n",
       "  </thead>\n",
       "  <tbody>\n",
       "    <tr>\n",
       "      <th>0</th>\n",
       "      <td>1</td>\n",
       "      <td>0</td>\n",
       "      <td>3</td>\n",
       "      <td>Braund, Mr. Owen Harris</td>\n",
       "      <td>male</td>\n",
       "      <td>22.0</td>\n",
       "      <td>1</td>\n",
       "      <td>0</td>\n",
       "      <td>A/5 21171</td>\n",
       "      <td>7.2500</td>\n",
       "      <td>NaN</td>\n",
       "      <td>S</td>\n",
       "    </tr>\n",
       "    <tr>\n",
       "      <th>1</th>\n",
       "      <td>2</td>\n",
       "      <td>1</td>\n",
       "      <td>1</td>\n",
       "      <td>Cumings, Mrs. John Bradley (Florence Briggs Th...</td>\n",
       "      <td>female</td>\n",
       "      <td>38.0</td>\n",
       "      <td>1</td>\n",
       "      <td>0</td>\n",
       "      <td>PC 17599</td>\n",
       "      <td>71.2833</td>\n",
       "      <td>C85</td>\n",
       "      <td>C</td>\n",
       "    </tr>\n",
       "    <tr>\n",
       "      <th>2</th>\n",
       "      <td>3</td>\n",
       "      <td>1</td>\n",
       "      <td>3</td>\n",
       "      <td>Heikkinen, Miss. Laina</td>\n",
       "      <td>female</td>\n",
       "      <td>26.0</td>\n",
       "      <td>0</td>\n",
       "      <td>0</td>\n",
       "      <td>STON/O2. 3101282</td>\n",
       "      <td>7.9250</td>\n",
       "      <td>NaN</td>\n",
       "      <td>S</td>\n",
       "    </tr>\n",
       "    <tr>\n",
       "      <th>3</th>\n",
       "      <td>4</td>\n",
       "      <td>1</td>\n",
       "      <td>1</td>\n",
       "      <td>Futrelle, Mrs. Jacques Heath (Lily May Peel)</td>\n",
       "      <td>female</td>\n",
       "      <td>35.0</td>\n",
       "      <td>1</td>\n",
       "      <td>0</td>\n",
       "      <td>113803</td>\n",
       "      <td>53.1000</td>\n",
       "      <td>C123</td>\n",
       "      <td>S</td>\n",
       "    </tr>\n",
       "    <tr>\n",
       "      <th>4</th>\n",
       "      <td>5</td>\n",
       "      <td>0</td>\n",
       "      <td>3</td>\n",
       "      <td>Allen, Mr. William Henry</td>\n",
       "      <td>male</td>\n",
       "      <td>35.0</td>\n",
       "      <td>0</td>\n",
       "      <td>0</td>\n",
       "      <td>373450</td>\n",
       "      <td>8.0500</td>\n",
       "      <td>NaN</td>\n",
       "      <td>S</td>\n",
       "    </tr>\n",
       "  </tbody>\n",
       "</table>\n",
       "</div>"
      ],
      "text/plain": [
       "   PassengerId  Survived  Pclass  \\\n",
       "0            1         0       3   \n",
       "1            2         1       1   \n",
       "2            3         1       3   \n",
       "3            4         1       1   \n",
       "4            5         0       3   \n",
       "\n",
       "                                                Name     Sex   Age  SibSp  \\\n",
       "0                            Braund, Mr. Owen Harris    male  22.0      1   \n",
       "1  Cumings, Mrs. John Bradley (Florence Briggs Th...  female  38.0      1   \n",
       "2                             Heikkinen, Miss. Laina  female  26.0      0   \n",
       "3       Futrelle, Mrs. Jacques Heath (Lily May Peel)  female  35.0      1   \n",
       "4                           Allen, Mr. William Henry    male  35.0      0   \n",
       "\n",
       "   Parch            Ticket     Fare Cabin Embarked  \n",
       "0      0         A/5 21171   7.2500   NaN        S  \n",
       "1      0          PC 17599  71.2833   C85        C  \n",
       "2      0  STON/O2. 3101282   7.9250   NaN        S  \n",
       "3      0            113803  53.1000  C123        S  \n",
       "4      0            373450   8.0500   NaN        S  "
      ]
     },
     "execution_count": 3,
     "metadata": {},
     "output_type": "execute_result"
    }
   ],
   "source": [
    "train.head()"
   ]
  },
  {
   "cell_type": "code",
   "execution_count": 4,
   "metadata": {
    "execution": {
     "iopub.execute_input": "2021-05-27T14:17:20.941503Z",
     "iopub.status.busy": "2021-05-27T14:17:20.940866Z",
     "iopub.status.idle": "2021-05-27T14:17:20.944838Z",
     "shell.execute_reply": "2021-05-27T14:17:20.944338Z"
    },
    "papermill": {
     "duration": 0.056981,
     "end_time": "2021-05-27T14:17:20.944955",
     "exception": false,
     "start_time": "2021-05-27T14:17:20.887974",
     "status": "completed"
    },
    "tags": []
   },
   "outputs": [
    {
     "data": {
      "text/html": [
       "<div>\n",
       "<style scoped>\n",
       "    .dataframe tbody tr th:only-of-type {\n",
       "        vertical-align: middle;\n",
       "    }\n",
       "\n",
       "    .dataframe tbody tr th {\n",
       "        vertical-align: top;\n",
       "    }\n",
       "\n",
       "    .dataframe thead th {\n",
       "        text-align: right;\n",
       "    }\n",
       "</style>\n",
       "<table border=\"1\" class=\"dataframe\">\n",
       "  <thead>\n",
       "    <tr style=\"text-align: right;\">\n",
       "      <th></th>\n",
       "      <th>PassengerId</th>\n",
       "      <th>Pclass</th>\n",
       "      <th>Name</th>\n",
       "      <th>Sex</th>\n",
       "      <th>Age</th>\n",
       "      <th>SibSp</th>\n",
       "      <th>Parch</th>\n",
       "      <th>Ticket</th>\n",
       "      <th>Fare</th>\n",
       "      <th>Cabin</th>\n",
       "      <th>Embarked</th>\n",
       "    </tr>\n",
       "  </thead>\n",
       "  <tbody>\n",
       "    <tr>\n",
       "      <th>0</th>\n",
       "      <td>892</td>\n",
       "      <td>3</td>\n",
       "      <td>Kelly, Mr. James</td>\n",
       "      <td>male</td>\n",
       "      <td>34.5</td>\n",
       "      <td>0</td>\n",
       "      <td>0</td>\n",
       "      <td>330911</td>\n",
       "      <td>7.8292</td>\n",
       "      <td>NaN</td>\n",
       "      <td>Q</td>\n",
       "    </tr>\n",
       "    <tr>\n",
       "      <th>1</th>\n",
       "      <td>893</td>\n",
       "      <td>3</td>\n",
       "      <td>Wilkes, Mrs. James (Ellen Needs)</td>\n",
       "      <td>female</td>\n",
       "      <td>47.0</td>\n",
       "      <td>1</td>\n",
       "      <td>0</td>\n",
       "      <td>363272</td>\n",
       "      <td>7.0000</td>\n",
       "      <td>NaN</td>\n",
       "      <td>S</td>\n",
       "    </tr>\n",
       "    <tr>\n",
       "      <th>2</th>\n",
       "      <td>894</td>\n",
       "      <td>2</td>\n",
       "      <td>Myles, Mr. Thomas Francis</td>\n",
       "      <td>male</td>\n",
       "      <td>62.0</td>\n",
       "      <td>0</td>\n",
       "      <td>0</td>\n",
       "      <td>240276</td>\n",
       "      <td>9.6875</td>\n",
       "      <td>NaN</td>\n",
       "      <td>Q</td>\n",
       "    </tr>\n",
       "    <tr>\n",
       "      <th>3</th>\n",
       "      <td>895</td>\n",
       "      <td>3</td>\n",
       "      <td>Wirz, Mr. Albert</td>\n",
       "      <td>male</td>\n",
       "      <td>27.0</td>\n",
       "      <td>0</td>\n",
       "      <td>0</td>\n",
       "      <td>315154</td>\n",
       "      <td>8.6625</td>\n",
       "      <td>NaN</td>\n",
       "      <td>S</td>\n",
       "    </tr>\n",
       "    <tr>\n",
       "      <th>4</th>\n",
       "      <td>896</td>\n",
       "      <td>3</td>\n",
       "      <td>Hirvonen, Mrs. Alexander (Helga E Lindqvist)</td>\n",
       "      <td>female</td>\n",
       "      <td>22.0</td>\n",
       "      <td>1</td>\n",
       "      <td>1</td>\n",
       "      <td>3101298</td>\n",
       "      <td>12.2875</td>\n",
       "      <td>NaN</td>\n",
       "      <td>S</td>\n",
       "    </tr>\n",
       "  </tbody>\n",
       "</table>\n",
       "</div>"
      ],
      "text/plain": [
       "   PassengerId  Pclass                                          Name     Sex  \\\n",
       "0          892       3                              Kelly, Mr. James    male   \n",
       "1          893       3              Wilkes, Mrs. James (Ellen Needs)  female   \n",
       "2          894       2                     Myles, Mr. Thomas Francis    male   \n",
       "3          895       3                              Wirz, Mr. Albert    male   \n",
       "4          896       3  Hirvonen, Mrs. Alexander (Helga E Lindqvist)  female   \n",
       "\n",
       "    Age  SibSp  Parch   Ticket     Fare Cabin Embarked  \n",
       "0  34.5      0      0   330911   7.8292   NaN        Q  \n",
       "1  47.0      1      0   363272   7.0000   NaN        S  \n",
       "2  62.0      0      0   240276   9.6875   NaN        Q  \n",
       "3  27.0      0      0   315154   8.6625   NaN        S  \n",
       "4  22.0      1      1  3101298  12.2875   NaN        S  "
      ]
     },
     "execution_count": 4,
     "metadata": {},
     "output_type": "execute_result"
    }
   ],
   "source": [
    "test.head()"
   ]
  },
  {
   "cell_type": "code",
   "execution_count": 5,
   "metadata": {
    "execution": {
     "iopub.execute_input": "2021-05-27T14:17:21.032191Z",
     "iopub.status.busy": "2021-05-27T14:17:21.031321Z",
     "iopub.status.idle": "2021-05-27T14:17:21.035645Z",
     "shell.execute_reply": "2021-05-27T14:17:21.035183Z"
    },
    "papermill": {
     "duration": 0.052098,
     "end_time": "2021-05-27T14:17:21.035770",
     "exception": false,
     "start_time": "2021-05-27T14:17:20.983672",
     "status": "completed"
    },
    "tags": []
   },
   "outputs": [
    {
     "data": {
      "text/html": [
       "<div>\n",
       "<style scoped>\n",
       "    .dataframe tbody tr th:only-of-type {\n",
       "        vertical-align: middle;\n",
       "    }\n",
       "\n",
       "    .dataframe tbody tr th {\n",
       "        vertical-align: top;\n",
       "    }\n",
       "\n",
       "    .dataframe thead th {\n",
       "        text-align: right;\n",
       "    }\n",
       "</style>\n",
       "<table border=\"1\" class=\"dataframe\">\n",
       "  <thead>\n",
       "    <tr style=\"text-align: right;\">\n",
       "      <th></th>\n",
       "      <th>PassengerId</th>\n",
       "      <th>Survived</th>\n",
       "    </tr>\n",
       "  </thead>\n",
       "  <tbody>\n",
       "    <tr>\n",
       "      <th>0</th>\n",
       "      <td>892</td>\n",
       "      <td>0</td>\n",
       "    </tr>\n",
       "    <tr>\n",
       "      <th>1</th>\n",
       "      <td>893</td>\n",
       "      <td>1</td>\n",
       "    </tr>\n",
       "    <tr>\n",
       "      <th>2</th>\n",
       "      <td>894</td>\n",
       "      <td>0</td>\n",
       "    </tr>\n",
       "    <tr>\n",
       "      <th>3</th>\n",
       "      <td>895</td>\n",
       "      <td>0</td>\n",
       "    </tr>\n",
       "    <tr>\n",
       "      <th>4</th>\n",
       "      <td>896</td>\n",
       "      <td>1</td>\n",
       "    </tr>\n",
       "  </tbody>\n",
       "</table>\n",
       "</div>"
      ],
      "text/plain": [
       "   PassengerId  Survived\n",
       "0          892         0\n",
       "1          893         1\n",
       "2          894         0\n",
       "3          895         0\n",
       "4          896         1"
      ]
     },
     "execution_count": 5,
     "metadata": {},
     "output_type": "execute_result"
    }
   ],
   "source": [
    "gender_submission.head()"
   ]
  },
  {
   "cell_type": "code",
   "execution_count": 6,
   "metadata": {
    "execution": {
     "iopub.execute_input": "2021-05-27T14:17:21.120661Z",
     "iopub.status.busy": "2021-05-27T14:17:21.120091Z",
     "iopub.status.idle": "2021-05-27T14:17:21.130742Z",
     "shell.execute_reply": "2021-05-27T14:17:21.131533Z"
    },
    "papermill": {
     "duration": 0.054086,
     "end_time": "2021-05-27T14:17:21.131749",
     "exception": false,
     "start_time": "2021-05-27T14:17:21.077663",
     "status": "completed"
    },
    "tags": []
   },
   "outputs": [],
   "source": [
    "## saving passenger id  in order to submit later. \n",
    "passengerid = test.PassengerId\n",
    "all_data = pd.concat([train,test],axis = 0).reset_index(drop = True)"
   ]
  },
  {
   "cell_type": "code",
   "execution_count": 7,
   "metadata": {
    "execution": {
     "iopub.execute_input": "2021-05-27T14:17:21.214195Z",
     "iopub.status.busy": "2021-05-27T14:17:21.213621Z",
     "iopub.status.idle": "2021-05-27T14:17:21.228957Z",
     "shell.execute_reply": "2021-05-27T14:17:21.228454Z"
    },
    "papermill": {
     "duration": 0.057219,
     "end_time": "2021-05-27T14:17:21.229071",
     "exception": false,
     "start_time": "2021-05-27T14:17:21.171852",
     "status": "completed"
    },
    "tags": []
   },
   "outputs": [
    {
     "data": {
      "text/html": [
       "<div>\n",
       "<style scoped>\n",
       "    .dataframe tbody tr th:only-of-type {\n",
       "        vertical-align: middle;\n",
       "    }\n",
       "\n",
       "    .dataframe tbody tr th {\n",
       "        vertical-align: top;\n",
       "    }\n",
       "\n",
       "    .dataframe thead th {\n",
       "        text-align: right;\n",
       "    }\n",
       "</style>\n",
       "<table border=\"1\" class=\"dataframe\">\n",
       "  <thead>\n",
       "    <tr style=\"text-align: right;\">\n",
       "      <th></th>\n",
       "      <th>PassengerId</th>\n",
       "      <th>Survived</th>\n",
       "      <th>Pclass</th>\n",
       "      <th>Name</th>\n",
       "      <th>Sex</th>\n",
       "      <th>Age</th>\n",
       "      <th>SibSp</th>\n",
       "      <th>Parch</th>\n",
       "      <th>Ticket</th>\n",
       "      <th>Fare</th>\n",
       "      <th>Cabin</th>\n",
       "      <th>Embarked</th>\n",
       "    </tr>\n",
       "  </thead>\n",
       "  <tbody>\n",
       "    <tr>\n",
       "      <th>0</th>\n",
       "      <td>1</td>\n",
       "      <td>0.0</td>\n",
       "      <td>3</td>\n",
       "      <td>Braund, Mr. Owen Harris</td>\n",
       "      <td>male</td>\n",
       "      <td>22.0</td>\n",
       "      <td>1</td>\n",
       "      <td>0</td>\n",
       "      <td>A/5 21171</td>\n",
       "      <td>7.2500</td>\n",
       "      <td>NaN</td>\n",
       "      <td>S</td>\n",
       "    </tr>\n",
       "    <tr>\n",
       "      <th>1</th>\n",
       "      <td>2</td>\n",
       "      <td>1.0</td>\n",
       "      <td>1</td>\n",
       "      <td>Cumings, Mrs. John Bradley (Florence Briggs Th...</td>\n",
       "      <td>female</td>\n",
       "      <td>38.0</td>\n",
       "      <td>1</td>\n",
       "      <td>0</td>\n",
       "      <td>PC 17599</td>\n",
       "      <td>71.2833</td>\n",
       "      <td>C85</td>\n",
       "      <td>C</td>\n",
       "    </tr>\n",
       "    <tr>\n",
       "      <th>2</th>\n",
       "      <td>3</td>\n",
       "      <td>1.0</td>\n",
       "      <td>3</td>\n",
       "      <td>Heikkinen, Miss. Laina</td>\n",
       "      <td>female</td>\n",
       "      <td>26.0</td>\n",
       "      <td>0</td>\n",
       "      <td>0</td>\n",
       "      <td>STON/O2. 3101282</td>\n",
       "      <td>7.9250</td>\n",
       "      <td>NaN</td>\n",
       "      <td>S</td>\n",
       "    </tr>\n",
       "    <tr>\n",
       "      <th>3</th>\n",
       "      <td>4</td>\n",
       "      <td>1.0</td>\n",
       "      <td>1</td>\n",
       "      <td>Futrelle, Mrs. Jacques Heath (Lily May Peel)</td>\n",
       "      <td>female</td>\n",
       "      <td>35.0</td>\n",
       "      <td>1</td>\n",
       "      <td>0</td>\n",
       "      <td>113803</td>\n",
       "      <td>53.1000</td>\n",
       "      <td>C123</td>\n",
       "      <td>S</td>\n",
       "    </tr>\n",
       "    <tr>\n",
       "      <th>4</th>\n",
       "      <td>5</td>\n",
       "      <td>0.0</td>\n",
       "      <td>3</td>\n",
       "      <td>Allen, Mr. William Henry</td>\n",
       "      <td>male</td>\n",
       "      <td>35.0</td>\n",
       "      <td>0</td>\n",
       "      <td>0</td>\n",
       "      <td>373450</td>\n",
       "      <td>8.0500</td>\n",
       "      <td>NaN</td>\n",
       "      <td>S</td>\n",
       "    </tr>\n",
       "  </tbody>\n",
       "</table>\n",
       "</div>"
      ],
      "text/plain": [
       "   PassengerId  Survived  Pclass  \\\n",
       "0            1       0.0       3   \n",
       "1            2       1.0       1   \n",
       "2            3       1.0       3   \n",
       "3            4       1.0       1   \n",
       "4            5       0.0       3   \n",
       "\n",
       "                                                Name     Sex   Age  SibSp  \\\n",
       "0                            Braund, Mr. Owen Harris    male  22.0      1   \n",
       "1  Cumings, Mrs. John Bradley (Florence Briggs Th...  female  38.0      1   \n",
       "2                             Heikkinen, Miss. Laina  female  26.0      0   \n",
       "3       Futrelle, Mrs. Jacques Heath (Lily May Peel)  female  35.0      1   \n",
       "4                           Allen, Mr. William Henry    male  35.0      0   \n",
       "\n",
       "   Parch            Ticket     Fare Cabin Embarked  \n",
       "0      0         A/5 21171   7.2500   NaN        S  \n",
       "1      0          PC 17599  71.2833   C85        C  \n",
       "2      0  STON/O2. 3101282   7.9250   NaN        S  \n",
       "3      0            113803  53.1000  C123        S  \n",
       "4      0            373450   8.0500   NaN        S  "
      ]
     },
     "execution_count": 7,
     "metadata": {},
     "output_type": "execute_result"
    }
   ],
   "source": [
    "all_data.head()"
   ]
  },
  {
   "cell_type": "code",
   "execution_count": 8,
   "metadata": {
    "execution": {
     "iopub.execute_input": "2021-05-27T14:17:21.311805Z",
     "iopub.status.busy": "2021-05-27T14:17:21.311261Z",
     "iopub.status.idle": "2021-05-27T14:17:21.481572Z",
     "shell.execute_reply": "2021-05-27T14:17:21.482044Z"
    },
    "papermill": {
     "duration": 0.2132,
     "end_time": "2021-05-27T14:17:21.482185",
     "exception": false,
     "start_time": "2021-05-27T14:17:21.268985",
     "status": "completed"
    },
    "tags": []
   },
   "outputs": [
    {
     "data": {
      "text/plain": [
       "<matplotlib.axes._subplots.AxesSubplot at 0x7febbae31150>"
      ]
     },
     "execution_count": 8,
     "metadata": {},
     "output_type": "execute_result"
    },
    {
     "data": {
      "image/png": "[encoded data removed]",
      "text/plain": [
       "<Figure size 432x288 with 1 Axes>"
      ]
     },
     "metadata": {
      "needs_background": "light"
     },
     "output_type": "display_data"
    }
   ],
   "source": [
    "sns.countplot(x = 'Survived' , data = all_data)"
   ]
  },
  {
   "cell_type": "markdown",
   "metadata": {
    "papermill": {
     "duration": 0.041869,
     "end_time": "2021-05-27T14:17:21.564406",
     "exception": false,
     "start_time": "2021-05-27T14:17:21.522537",
     "status": "completed"
    },
    "tags": []
   },
   "source": [
    "**1. DEALING WITH MISSING VALUES**"
   ]
  },
  {
   "cell_type": "code",
   "execution_count": 9,
   "metadata": {
    "execution": {
     "iopub.execute_input": "2021-05-27T14:17:21.648656Z",
     "iopub.status.busy": "2021-05-27T14:17:21.648134Z",
     "iopub.status.idle": "2021-05-27T14:17:21.655572Z",
     "shell.execute_reply": "2021-05-27T14:17:21.656071Z"
    },
    "papermill": {
     "duration": 0.051149,
     "end_time": "2021-05-27T14:17:21.656208",
     "exception": false,
     "start_time": "2021-05-27T14:17:21.605059",
     "status": "completed"
    },
    "tags": []
   },
   "outputs": [
    {
     "data": {
      "text/plain": [
       "Cabin          1014\n",
       "Survived        418\n",
       "Age             263\n",
       "Embarked          2\n",
       "Fare              1\n",
       "Ticket            0\n",
       "Parch             0\n",
       "SibSp             0\n",
       "Sex               0\n",
       "Name              0\n",
       "Pclass            0\n",
       "PassengerId       0\n",
       "dtype: int64"
      ]
     },
     "execution_count": 9,
     "metadata": {},
     "output_type": "execute_result"
    }
   ],
   "source": [
    "all_data.isnull().sum().sort_values(ascending = False)"
   ]
  },
  {
   "cell_type": "markdown",
   "metadata": {
    "papermill": {
     "duration": 0.040217,
     "end_time": "2021-05-27T14:17:21.736930",
     "exception": false,
     "start_time": "2021-05-27T14:17:21.696713",
     "status": "completed"
    },
    "tags": []
   },
   "source": [
    "**Embarked**"
   ]
  },
  {
   "cell_type": "code",
   "execution_count": 10,
   "metadata": {
    "execution": {
     "iopub.execute_input": "2021-05-27T14:17:21.822014Z",
     "iopub.status.busy": "2021-05-27T14:17:21.821459Z",
     "iopub.status.idle": "2021-05-27T14:17:21.827893Z",
     "shell.execute_reply": "2021-05-27T14:17:21.828418Z"
    },
    "papermill": {
     "duration": 0.05034,
     "end_time": "2021-05-27T14:17:21.828550",
     "exception": false,
     "start_time": "2021-05-27T14:17:21.778210",
     "status": "completed"
    },
    "tags": []
   },
   "outputs": [
    {
     "data": {
      "text/plain": [
       "S    644\n",
       "C    168\n",
       "Q     77\n",
       "Name: Embarked, dtype: int64"
      ]
     },
     "execution_count": 10,
     "metadata": {},
     "output_type": "execute_result"
    }
   ],
   "source": [
    "train['Embarked'].value_counts()"
   ]
  },
  {
   "cell_type": "code",
   "execution_count": 11,
   "metadata": {
    "execution": {
     "iopub.execute_input": "2021-05-27T14:17:21.912905Z",
     "iopub.status.busy": "2021-05-27T14:17:21.912352Z",
     "iopub.status.idle": "2021-05-27T14:17:21.916624Z",
     "shell.execute_reply": "2021-05-27T14:17:21.917134Z"
    },
    "papermill": {
     "duration": 0.047898,
     "end_time": "2021-05-27T14:17:21.917274",
     "exception": false,
     "start_time": "2021-05-27T14:17:21.869376",
     "status": "completed"
    },
    "tags": []
   },
   "outputs": [],
   "source": [
    "all_data['Embarked'] = all_data['Embarked'].fillna('C')"
   ]
  },
  {
   "cell_type": "code",
   "execution_count": 12,
   "metadata": {
    "execution": {
     "iopub.execute_input": "2021-05-27T14:17:22.004647Z",
     "iopub.status.busy": "2021-05-27T14:17:22.003790Z",
     "iopub.status.idle": "2021-05-27T14:17:22.016043Z",
     "shell.execute_reply": "2021-05-27T14:17:22.016551Z"
    },
    "papermill": {
     "duration": 0.058284,
     "end_time": "2021-05-27T14:17:22.016680",
     "exception": false,
     "start_time": "2021-05-27T14:17:21.958396",
     "status": "completed"
    },
    "tags": []
   },
   "outputs": [
    {
     "data": {
      "text/html": [
       "<div>\n",
       "<style scoped>\n",
       "    .dataframe tbody tr th:only-of-type {\n",
       "        vertical-align: middle;\n",
       "    }\n",
       "\n",
       "    .dataframe tbody tr th {\n",
       "        vertical-align: top;\n",
       "    }\n",
       "\n",
       "    .dataframe thead th {\n",
       "        text-align: right;\n",
       "    }\n",
       "</style>\n",
       "<table border=\"1\" class=\"dataframe\">\n",
       "  <thead>\n",
       "    <tr style=\"text-align: right;\">\n",
       "      <th></th>\n",
       "      <th>PassengerId</th>\n",
       "      <th>Survived</th>\n",
       "      <th>Pclass</th>\n",
       "      <th>Name</th>\n",
       "      <th>Sex</th>\n",
       "      <th>Age</th>\n",
       "      <th>SibSp</th>\n",
       "      <th>Parch</th>\n",
       "      <th>Ticket</th>\n",
       "      <th>Fare</th>\n",
       "      <th>Cabin</th>\n",
       "      <th>Embarked</th>\n",
       "    </tr>\n",
       "  </thead>\n",
       "  <tbody>\n",
       "  </tbody>\n",
       "</table>\n",
       "</div>"
      ],
      "text/plain": [
       "Empty DataFrame\n",
       "Columns: [PassengerId, Survived, Pclass, Name, Sex, Age, SibSp, Parch, Ticket, Fare, Cabin, Embarked]\n",
       "Index: []"
      ]
     },
     "execution_count": 12,
     "metadata": {},
     "output_type": "execute_result"
    }
   ],
   "source": [
    "all_data[all_data['Embarked'].isnull()]"
   ]
  },
  {
   "cell_type": "markdown",
   "metadata": {
    "papermill": {
     "duration": 0.04354,
     "end_time": "2021-05-27T14:17:22.101544",
     "exception": false,
     "start_time": "2021-05-27T14:17:22.058004",
     "status": "completed"
    },
    "tags": []
   },
   "source": [
    "**Fare**"
   ]
  },
  {
   "cell_type": "code",
   "execution_count": 13,
   "metadata": {
    "execution": {
     "iopub.execute_input": "2021-05-27T14:17:22.189115Z",
     "iopub.status.busy": "2021-05-27T14:17:22.188527Z",
     "iopub.status.idle": "2021-05-27T14:17:22.403615Z",
     "shell.execute_reply": "2021-05-27T14:17:22.403136Z"
    },
    "papermill": {
     "duration": 0.259496,
     "end_time": "2021-05-27T14:17:22.403738",
     "exception": false,
     "start_time": "2021-05-27T14:17:22.144242",
     "status": "completed"
    },
    "tags": []
   },
   "outputs": [
    {
     "data": {
      "text/plain": [
       "<matplotlib.axes._subplots.AxesSubplot at 0x7febb807b350>"
      ]
     },
     "execution_count": 13,
     "metadata": {},
     "output_type": "execute_result"
    },
    {
     "data": {
      "image/png": "[encoded data removed]",
      "text/plain": [
       "<Figure size 432x288 with 1 Axes>"
      ]
     },
     "metadata": {
      "needs_background": "light"
     },
     "output_type": "display_data"
    }
   ],
   "source": [
    "all_data['Fare'].hist(bins = 40 )"
   ]
  },
  {
   "cell_type": "code",
   "execution_count": 14,
   "metadata": {
    "execution": {
     "iopub.execute_input": "2021-05-27T14:17:22.493816Z",
     "iopub.status.busy": "2021-05-27T14:17:22.493204Z",
     "iopub.status.idle": "2021-05-27T14:17:22.514663Z",
     "shell.execute_reply": "2021-05-27T14:17:22.514166Z"
    },
    "papermill": {
     "duration": 0.06869,
     "end_time": "2021-05-27T14:17:22.514820",
     "exception": false,
     "start_time": "2021-05-27T14:17:22.446130",
     "status": "completed"
    },
    "tags": []
   },
   "outputs": [],
   "source": [
    "all_data[\"Fare\"] = all_data[\"Fare\"].fillna(np.mean(all_data[all_data[\"Pclass\"] == 3][\"Fare\"]))"
   ]
  },
  {
   "cell_type": "code",
   "execution_count": 15,
   "metadata": {
    "execution": {
     "iopub.execute_input": "2021-05-27T14:17:22.614097Z",
     "iopub.status.busy": "2021-05-27T14:17:22.613367Z",
     "iopub.status.idle": "2021-05-27T14:17:22.617991Z",
     "shell.execute_reply": "2021-05-27T14:17:22.617476Z"
    },
    "papermill": {
     "duration": 0.060649,
     "end_time": "2021-05-27T14:17:22.618114",
     "exception": false,
     "start_time": "2021-05-27T14:17:22.557465",
     "status": "completed"
    },
    "tags": []
   },
   "outputs": [
    {
     "data": {
      "text/html": [
       "<div>\n",
       "<style scoped>\n",
       "    .dataframe tbody tr th:only-of-type {\n",
       "        vertical-align: middle;\n",
       "    }\n",
       "\n",
       "    .dataframe tbody tr th {\n",
       "        vertical-align: top;\n",
       "    }\n",
       "\n",
       "    .dataframe thead th {\n",
       "        text-align: right;\n",
       "    }\n",
       "</style>\n",
       "<table border=\"1\" class=\"dataframe\">\n",
       "  <thead>\n",
       "    <tr style=\"text-align: right;\">\n",
       "      <th></th>\n",
       "      <th>PassengerId</th>\n",
       "      <th>Survived</th>\n",
       "      <th>Pclass</th>\n",
       "      <th>Name</th>\n",
       "      <th>Sex</th>\n",
       "      <th>Age</th>\n",
       "      <th>SibSp</th>\n",
       "      <th>Parch</th>\n",
       "      <th>Ticket</th>\n",
       "      <th>Fare</th>\n",
       "      <th>Cabin</th>\n",
       "      <th>Embarked</th>\n",
       "    </tr>\n",
       "  </thead>\n",
       "  <tbody>\n",
       "  </tbody>\n",
       "</table>\n",
       "</div>"
      ],
      "text/plain": [
       "Empty DataFrame\n",
       "Columns: [PassengerId, Survived, Pclass, Name, Sex, Age, SibSp, Parch, Ticket, Fare, Cabin, Embarked]\n",
       "Index: []"
      ]
     },
     "execution_count": 15,
     "metadata": {},
     "output_type": "execute_result"
    }
   ],
   "source": [
    "all_data[all_data[\"Fare\"].isnull()]\n"
   ]
  },
  {
   "cell_type": "markdown",
   "metadata": {
    "papermill": {
     "duration": 0.042718,
     "end_time": "2021-05-27T14:17:22.704018",
     "exception": false,
     "start_time": "2021-05-27T14:17:22.661300",
     "status": "completed"
    },
    "tags": []
   },
   "source": [
    "**Age**"
   ]
  },
  {
   "cell_type": "code",
   "execution_count": 16,
   "metadata": {
    "execution": {
     "iopub.execute_input": "2021-05-27T14:17:22.798740Z",
     "iopub.status.busy": "2021-05-27T14:17:22.798093Z",
     "iopub.status.idle": "2021-05-27T14:17:22.946547Z",
     "shell.execute_reply": "2021-05-27T14:17:22.945936Z"
    },
    "papermill": {
     "duration": 0.198627,
     "end_time": "2021-05-27T14:17:22.946657",
     "exception": false,
     "start_time": "2021-05-27T14:17:22.748030",
     "status": "completed"
    },
    "tags": []
   },
   "outputs": [
    {
     "data": {
      "text/plain": [
       "<matplotlib.axes._subplots.AxesSubplot at 0x7febb3f98390>"
      ]
     },
     "execution_count": 16,
     "metadata": {},
     "output_type": "execute_result"
    },
    {
     "data": {
      "image/png": "[encoded data removed]",
      "text/plain": [
       "<Figure size 720x504 with 1 Axes>"
      ]
     },
     "metadata": {
      "needs_background": "light"
     },
     "output_type": "display_data"
    }
   ],
   "source": [
    "plt.figure(figsize = (10,7))\n",
    "sns.boxplot(x = 'Pclass' , y = 'Age' , data = all_data)"
   ]
  },
  {
   "cell_type": "markdown",
   "metadata": {
    "papermill": {
     "duration": 0.047609,
     "end_time": "2021-05-27T14:17:23.037847",
     "exception": false,
     "start_time": "2021-05-27T14:17:22.990238",
     "status": "completed"
    },
    "tags": []
   },
   "source": [
    " We can see that.....when we seperate by PClass , the wealthier passengers in the first and second class tend to be a little older than passengers in the third class . \n",
    " We can use the **average age values** to impute the age.......based on Pclass"
   ]
  },
  {
   "cell_type": "code",
   "execution_count": 17,
   "metadata": {
    "execution": {
     "iopub.execute_input": "2021-05-27T14:17:23.134823Z",
     "iopub.status.busy": "2021-05-27T14:17:23.133938Z",
     "iopub.status.idle": "2021-05-27T14:17:23.136836Z",
     "shell.execute_reply": "2021-05-27T14:17:23.136290Z"
    },
    "papermill": {
     "duration": 0.054159,
     "end_time": "2021-05-27T14:17:23.136952",
     "exception": false,
     "start_time": "2021-05-27T14:17:23.082793",
     "status": "completed"
    },
    "tags": []
   },
   "outputs": [],
   "source": [
    "def impute_age (cols):\n",
    "    Age = cols[0]\n",
    "    Pclass = cols[1]\n",
    "    \n",
    "    if pd.isnull(Age):\n",
    "        if Pclass == 1:\n",
    "            return 37\n",
    "        elif Pclass == 2:\n",
    "            return 29\n",
    "        else:\n",
    "            return 24\n",
    "    else:\n",
    "        return Age\n",
    "        \n",
    "        "
   ]
  },
  {
   "cell_type": "code",
   "execution_count": 18,
   "metadata": {
    "execution": {
     "iopub.execute_input": "2021-05-27T14:17:23.234108Z",
     "iopub.status.busy": "2021-05-27T14:17:23.233454Z",
     "iopub.status.idle": "2021-05-27T14:17:23.251881Z",
     "shell.execute_reply": "2021-05-27T14:17:23.251308Z"
    },
    "papermill": {
     "duration": 0.070258,
     "end_time": "2021-05-27T14:17:23.252058",
     "exception": false,
     "start_time": "2021-05-27T14:17:23.181800",
     "status": "completed"
    },
    "tags": []
   },
   "outputs": [],
   "source": [
    "all_data['Age'] = all_data[['Age','Pclass']].apply(impute_age , axis = 1)"
   ]
  },
  {
   "cell_type": "code",
   "execution_count": 19,
   "metadata": {
    "execution": {
     "iopub.execute_input": "2021-05-27T14:17:23.347653Z",
     "iopub.status.busy": "2021-05-27T14:17:23.347123Z",
     "iopub.status.idle": "2021-05-27T14:17:23.356661Z",
     "shell.execute_reply": "2021-05-27T14:17:23.357129Z"
    },
    "papermill": {
     "duration": 0.058005,
     "end_time": "2021-05-27T14:17:23.357258",
     "exception": false,
     "start_time": "2021-05-27T14:17:23.299253",
     "status": "completed"
    },
    "tags": []
   },
   "outputs": [
    {
     "data": {
      "text/html": [
       "<div>\n",
       "<style scoped>\n",
       "    .dataframe tbody tr th:only-of-type {\n",
       "        vertical-align: middle;\n",
       "    }\n",
       "\n",
       "    .dataframe tbody tr th {\n",
       "        vertical-align: top;\n",
       "    }\n",
       "\n",
       "    .dataframe thead th {\n",
       "        text-align: right;\n",
       "    }\n",
       "</style>\n",
       "<table border=\"1\" class=\"dataframe\">\n",
       "  <thead>\n",
       "    <tr style=\"text-align: right;\">\n",
       "      <th></th>\n",
       "      <th>PassengerId</th>\n",
       "      <th>Survived</th>\n",
       "      <th>Pclass</th>\n",
       "      <th>Name</th>\n",
       "      <th>Sex</th>\n",
       "      <th>Age</th>\n",
       "      <th>SibSp</th>\n",
       "      <th>Parch</th>\n",
       "      <th>Ticket</th>\n",
       "      <th>Fare</th>\n",
       "      <th>Cabin</th>\n",
       "      <th>Embarked</th>\n",
       "    </tr>\n",
       "  </thead>\n",
       "  <tbody>\n",
       "  </tbody>\n",
       "</table>\n",
       "</div>"
      ],
      "text/plain": [
       "Empty DataFrame\n",
       "Columns: [PassengerId, Survived, Pclass, Name, Sex, Age, SibSp, Parch, Ticket, Fare, Cabin, Embarked]\n",
       "Index: []"
      ]
     },
     "execution_count": 19,
     "metadata": {},
     "output_type": "execute_result"
    }
   ],
   "source": [
    "all_data[all_data[\"Age\"].isnull()]\n"
   ]
  },
  {
   "cell_type": "markdown",
   "metadata": {
    "papermill": {
     "duration": 0.045944,
     "end_time": "2021-05-27T14:17:23.449020",
     "exception": false,
     "start_time": "2021-05-27T14:17:23.403076",
     "status": "completed"
    },
    "tags": []
   },
   "source": [
    "**Cabin**"
   ]
  },
  {
   "cell_type": "code",
   "execution_count": 20,
   "metadata": {
    "execution": {
     "iopub.execute_input": "2021-05-27T14:17:23.542235Z",
     "iopub.status.busy": "2021-05-27T14:17:23.541567Z",
     "iopub.status.idle": "2021-05-27T14:17:23.546359Z",
     "shell.execute_reply": "2021-05-27T14:17:23.546823Z"
    },
    "papermill": {
     "duration": 0.053299,
     "end_time": "2021-05-27T14:17:23.546954",
     "exception": false,
     "start_time": "2021-05-27T14:17:23.493655",
     "status": "completed"
    },
    "tags": []
   },
   "outputs": [],
   "source": [
    "all_data.Cabin.fillna('U',inplace = True)"
   ]
  },
  {
   "cell_type": "code",
   "execution_count": 21,
   "metadata": {
    "execution": {
     "iopub.execute_input": "2021-05-27T14:17:23.639173Z",
     "iopub.status.busy": "2021-05-27T14:17:23.638546Z",
     "iopub.status.idle": "2021-05-27T14:17:23.643237Z",
     "shell.execute_reply": "2021-05-27T14:17:23.643702Z"
    },
    "papermill": {
     "duration": 0.052109,
     "end_time": "2021-05-27T14:17:23.643838",
     "exception": false,
     "start_time": "2021-05-27T14:17:23.591729",
     "status": "completed"
    },
    "tags": []
   },
   "outputs": [],
   "source": [
    "all_data.Cabin = [i[0] for i in all_data.Cabin]"
   ]
  },
  {
   "cell_type": "code",
   "execution_count": 22,
   "metadata": {
    "execution": {
     "iopub.execute_input": "2021-05-27T14:17:23.745558Z",
     "iopub.status.busy": "2021-05-27T14:17:23.744994Z",
     "iopub.status.idle": "2021-05-27T14:17:23.750819Z",
     "shell.execute_reply": "2021-05-27T14:17:23.751204Z"
    },
    "papermill": {
     "duration": 0.062298,
     "end_time": "2021-05-27T14:17:23.751335",
     "exception": false,
     "start_time": "2021-05-27T14:17:23.689037",
     "status": "completed"
    },
    "tags": []
   },
   "outputs": [
    {
     "data": {
      "text/plain": [
       "Cabin\n",
       "G     14.205000\n",
       "F     18.079367\n",
       "U     19.126958\n",
       "T     35.500000\n",
       "A     41.244314\n",
       "D     53.007339\n",
       "E     54.564634\n",
       "C    107.926598\n",
       "B    122.383078\n",
       "Name: Fare, dtype: float64"
      ]
     },
     "execution_count": 22,
     "metadata": {},
     "output_type": "execute_result"
    }
   ],
   "source": [
    "all_data.groupby('Cabin')['Fare'].mean().sort_values()"
   ]
  },
  {
   "cell_type": "code",
   "execution_count": 23,
   "metadata": {
    "execution": {
     "iopub.execute_input": "2021-05-27T14:17:23.850073Z",
     "iopub.status.busy": "2021-05-27T14:17:23.849495Z",
     "iopub.status.idle": "2021-05-27T14:17:23.852494Z",
     "shell.execute_reply": "2021-05-27T14:17:23.852037Z"
    },
    "papermill": {
     "duration": 0.055821,
     "end_time": "2021-05-27T14:17:23.852597",
     "exception": false,
     "start_time": "2021-05-27T14:17:23.796776",
     "status": "completed"
    },
    "tags": []
   },
   "outputs": [],
   "source": [
    "def cabin_solving(i):\n",
    "    \"\"\"Grouping cabin feature by the first letter\"\"\"\n",
    "    a = 0\n",
    "    if i<16:\n",
    "        a = \"G\"\n",
    "    elif i>=16 and i<27:\n",
    "        a = \"F\"\n",
    "    elif i>=27 and i<38:\n",
    "        a = \"T\"\n",
    "    elif i>=38 and i<47:\n",
    "        a = \"A\"\n",
    "    elif i>= 47 and i<53:\n",
    "        a = \"E\"\n",
    "    elif i>= 53 and i<54:\n",
    "        a = \"D\"\n",
    "    elif i>=54 and i<116:\n",
    "        a = 'C'\n",
    "    else:\n",
    "        a = \"B\"\n",
    "    return a\n",
    "   "
   ]
  },
  {
   "cell_type": "code",
   "execution_count": 24,
   "metadata": {
    "execution": {
     "iopub.execute_input": "2021-05-27T14:17:23.957451Z",
     "iopub.status.busy": "2021-05-27T14:17:23.956808Z",
     "iopub.status.idle": "2021-05-27T14:17:23.961031Z",
     "shell.execute_reply": "2021-05-27T14:17:23.960220Z"
    },
    "papermill": {
     "duration": 0.061313,
     "end_time": "2021-05-27T14:17:23.961183",
     "exception": false,
     "start_time": "2021-05-27T14:17:23.899870",
     "status": "completed"
    },
    "tags": []
   },
   "outputs": [
    {
     "name": "stderr",
     "output_type": "stream",
     "text": [
      "/opt/conda/lib/python3.7/site-packages/ipykernel_launcher.py:5: SettingWithCopyWarning: \n",
      "A value is trying to be set on a copy of a slice from a DataFrame.\n",
      "Try using .loc[row_indexer,col_indexer] = value instead\n",
      "\n",
      "See the caveats in the documentation: https://pandas.pydata.org/pandas-docs/stable/user_guide/indexing.html#returning-a-view-versus-a-copy\n",
      "  \"\"\"\n"
     ]
    }
   ],
   "source": [
    "with_N = all_data[all_data.Cabin == \"U\"]\n",
    "\n",
    "without_N = all_data[all_data.Cabin != \"U\"]\n",
    "##applying cabin estimator function. \n",
    "with_N['Cabin'] = with_N.Fare.apply(lambda x: cabin_solving(x))\n"
   ]
  },
  {
   "cell_type": "code",
   "execution_count": 25,
   "metadata": {
    "execution": {
     "iopub.execute_input": "2021-05-27T14:17:24.067057Z",
     "iopub.status.busy": "2021-05-27T14:17:24.066376Z",
     "iopub.status.idle": "2021-05-27T14:17:24.070670Z",
     "shell.execute_reply": "2021-05-27T14:17:24.070202Z"
    },
    "papermill": {
     "duration": 0.061177,
     "end_time": "2021-05-27T14:17:24.070799",
     "exception": false,
     "start_time": "2021-05-27T14:17:24.009622",
     "status": "completed"
    },
    "tags": []
   },
   "outputs": [
    {
     "data": {
      "text/html": [
       "<div>\n",
       "<style scoped>\n",
       "    .dataframe tbody tr th:only-of-type {\n",
       "        vertical-align: middle;\n",
       "    }\n",
       "\n",
       "    .dataframe tbody tr th {\n",
       "        vertical-align: top;\n",
       "    }\n",
       "\n",
       "    .dataframe thead th {\n",
       "        text-align: right;\n",
       "    }\n",
       "</style>\n",
       "<table border=\"1\" class=\"dataframe\">\n",
       "  <thead>\n",
       "    <tr style=\"text-align: right;\">\n",
       "      <th></th>\n",
       "      <th>PassengerId</th>\n",
       "      <th>Survived</th>\n",
       "      <th>Pclass</th>\n",
       "      <th>Name</th>\n",
       "      <th>Sex</th>\n",
       "      <th>Age</th>\n",
       "      <th>SibSp</th>\n",
       "      <th>Parch</th>\n",
       "      <th>Ticket</th>\n",
       "      <th>Fare</th>\n",
       "      <th>Cabin</th>\n",
       "      <th>Embarked</th>\n",
       "    </tr>\n",
       "  </thead>\n",
       "  <tbody>\n",
       "  </tbody>\n",
       "</table>\n",
       "</div>"
      ],
      "text/plain": [
       "Empty DataFrame\n",
       "Columns: [PassengerId, Survived, Pclass, Name, Sex, Age, SibSp, Parch, Ticket, Fare, Cabin, Embarked]\n",
       "Index: []"
      ]
     },
     "execution_count": 25,
     "metadata": {},
     "output_type": "execute_result"
    }
   ],
   "source": [
    "all_data[all_data['Cabin'].isnull()]"
   ]
  },
  {
   "cell_type": "code",
   "execution_count": 26,
   "metadata": {
    "execution": {
     "iopub.execute_input": "2021-05-27T14:17:24.173586Z",
     "iopub.status.busy": "2021-05-27T14:17:24.172659Z",
     "iopub.status.idle": "2021-05-27T14:17:24.176872Z",
     "shell.execute_reply": "2021-05-27T14:17:24.176308Z"
    },
    "papermill": {
     "duration": 0.058781,
     "end_time": "2021-05-27T14:17:24.176976",
     "exception": false,
     "start_time": "2021-05-27T14:17:24.118195",
     "status": "completed"
    },
    "tags": []
   },
   "outputs": [
    {
     "data": {
      "text/plain": [
       "Survived       418\n",
       "Embarked         0\n",
       "Cabin            0\n",
       "Fare             0\n",
       "Ticket           0\n",
       "Parch            0\n",
       "SibSp            0\n",
       "Age              0\n",
       "Sex              0\n",
       "Name             0\n",
       "Pclass           0\n",
       "PassengerId      0\n",
       "dtype: int64"
      ]
     },
     "execution_count": 26,
     "metadata": {},
     "output_type": "execute_result"
    }
   ],
   "source": [
    "all_data.isnull().sum().sort_values(ascending = False)"
   ]
  },
  {
   "cell_type": "code",
   "execution_count": 27,
   "metadata": {
    "execution": {
     "iopub.execute_input": "2021-05-27T14:17:24.281040Z",
     "iopub.status.busy": "2021-05-27T14:17:24.280453Z",
     "iopub.status.idle": "2021-05-27T14:17:24.285315Z",
     "shell.execute_reply": "2021-05-27T14:17:24.284862Z"
    },
    "papermill": {
     "duration": 0.061259,
     "end_time": "2021-05-27T14:17:24.285427",
     "exception": false,
     "start_time": "2021-05-27T14:17:24.224168",
     "status": "completed"
    },
    "tags": []
   },
   "outputs": [],
   "source": [
    "## getting back train. \n",
    "all_data = pd.concat([with_N, without_N], axis=0)\n",
    "\n",
    "## PassengerId helps us separate train and test. \n",
    "all_data.sort_values(by = 'PassengerId', inplace=True)\n",
    "\n",
    "## Separating train and test from all_data. \n",
    "train = all_data[:891]\n",
    "\n",
    "test = all_data[891:]\n",
    "\n",
    "\n"
   ]
  },
  {
   "cell_type": "markdown",
   "metadata": {
    "papermill": {
     "duration": 0.060341,
     "end_time": "2021-05-27T14:17:24.400961",
     "exception": false,
     "start_time": "2021-05-27T14:17:24.340620",
     "status": "completed"
    },
    "tags": []
   },
   "source": [
    "**2. DATA VISUALISATION**"
   ]
  },
  {
   "cell_type": "markdown",
   "metadata": {
    "papermill": {
     "duration": 0.046524,
     "end_time": "2021-05-27T14:17:24.501227",
     "exception": false,
     "start_time": "2021-05-27T14:17:24.454703",
     "status": "completed"
    },
    "tags": []
   },
   "source": [
    "2a. UNIVARIATE ANALYSIS"
   ]
  },
  {
   "cell_type": "markdown",
   "metadata": {
    "papermill": {
     "duration": 0.045331,
     "end_time": "2021-05-27T14:17:24.592725",
     "exception": false,
     "start_time": "2021-05-27T14:17:24.547394",
     "status": "completed"
    },
    "tags": []
   },
   "source": [
    "* Categorical Variable: Survived, Sex, Pclass, Embarked, Cabin, Name, Ticket, Sibsp and Parch\n",
    "* Numerical Variable: Fare, age and passengerId\n"
   ]
  },
  {
   "cell_type": "code",
   "execution_count": 28,
   "metadata": {
    "execution": {
     "iopub.execute_input": "2021-05-27T14:17:24.690546Z",
     "iopub.status.busy": "2021-05-27T14:17:24.689936Z",
     "iopub.status.idle": "2021-05-27T14:17:24.692774Z",
     "shell.execute_reply": "2021-05-27T14:17:24.692141Z"
    },
    "papermill": {
     "duration": 0.054358,
     "end_time": "2021-05-27T14:17:24.692875",
     "exception": false,
     "start_time": "2021-05-27T14:17:24.638517",
     "status": "completed"
    },
    "tags": []
   },
   "outputs": [],
   "source": [
    "def bar_plot(variable):\n",
    "    \"\"\"\n",
    "        input: variable ex: \"Sex\"\n",
    "        output: bar plot & value count\n",
    "    \"\"\"\n",
    "    # get feature\n",
    "    var = train[variable]\n",
    "    # count number of categorical variables\n",
    "    varValue = var.value_counts()\n",
    "    \n",
    "    # visualize\n",
    "    plt.figure(figsize = (9,3))\n",
    "    plt.bar(varValue.index, varValue)\n",
    "    plt.xticks(varValue.index, varValue.index.values)\n",
    "    plt.ylabel(\"Frequency\")\n",
    "    plt.title(variable)\n",
    "    plt.show()\n",
    "    print(\"{}: \\n {}\".format(variable,varValue))\n",
    " "
   ]
  },
  {
   "cell_type": "code",
   "execution_count": 29,
   "metadata": {
    "execution": {
     "iopub.execute_input": "2021-05-27T14:17:24.801830Z",
     "iopub.status.busy": "2021-05-27T14:17:24.797825Z",
     "iopub.status.idle": "2021-05-27T14:17:25.519764Z",
     "shell.execute_reply": "2021-05-27T14:17:25.520192Z"
    },
    "papermill": {
     "duration": 0.780418,
     "end_time": "2021-05-27T14:17:25.520323",
     "exception": false,
     "start_time": "2021-05-27T14:17:24.739905",
     "status": "completed"
    },
    "tags": []
   },
   "outputs": [
    {
     "data": {
      "image/png": "[encoded data removed]",
      "text/plain": [
       "<Figure size 648x216 with 1 Axes>"
      ]
     },
     "metadata": {
      "needs_background": "light"
     },
     "output_type": "display_data"
    },
    {
     "name": "stdout",
     "output_type": "stream",
     "text": [
      "Survived: \n",
      " 0.0    549\n",
      "1.0    342\n",
      "Name: Survived, dtype: int64\n"
     ]
    },
    {
     "data": {
      "image/png": "[encoded data removed]",
      "text/plain": [
       "<Figure size 648x216 with 1 Axes>"
      ]
     },
     "metadata": {
      "needs_background": "light"
     },
     "output_type": "display_data"
    },
    {
     "name": "stdout",
     "output_type": "stream",
     "text": [
      "Sex: \n",
      " male      577\n",
      "female    314\n",
      "Name: Sex, dtype: int64\n"
     ]
    },
    {
     "data": {
      "image/png": "[encoded data removed]",
      "text/plain": [
       "<Figure size 648x216 with 1 Axes>"
      ]
     },
     "metadata": {
      "needs_background": "light"
     },
     "output_type": "display_data"
    },
    {
     "name": "stdout",
     "output_type": "stream",
     "text": [
      "Pclass: \n",
      " 3    491\n",
      "1    216\n",
      "2    184\n",
      "Name: Pclass, dtype: int64\n"
     ]
    },
    {
     "data": {
      "image/png": "[encoded data removed]",
      "text/plain": [
       "<Figure size 648x216 with 1 Axes>"
      ]
     },
     "metadata": {
      "needs_background": "light"
     },
     "output_type": "display_data"
    },
    {
     "name": "stdout",
     "output_type": "stream",
     "text": [
      "Embarked: \n",
      " S    644\n",
      "C    170\n",
      "Q     77\n",
      "Name: Embarked, dtype: int64\n"
     ]
    },
    {
     "data": {
      "image/png": "[encoded data removed]",
      "text/plain": [
       "<Figure size 648x216 with 1 Axes>"
      ]
     },
     "metadata": {
      "needs_background": "light"
     },
     "output_type": "display_data"
    },
    {
     "name": "stdout",
     "output_type": "stream",
     "text": [
      "SibSp: \n",
      " 0    608\n",
      "1    209\n",
      "2     28\n",
      "4     18\n",
      "3     16\n",
      "8      7\n",
      "5      5\n",
      "Name: SibSp, dtype: int64\n"
     ]
    },
    {
     "data": {
      "image/png": "[encoded data removed]",
      "text/plain": [
       "<Figure size 648x216 with 1 Axes>"
      ]
     },
     "metadata": {
      "needs_background": "light"
     },
     "output_type": "display_data"
    },
    {
     "name": "stdout",
     "output_type": "stream",
     "text": [
      "Parch: \n",
      " 0    678\n",
      "1    118\n",
      "2     80\n",
      "5      5\n",
      "3      5\n",
      "4      4\n",
      "6      1\n",
      "Name: Parch, dtype: int64\n"
     ]
    }
   ],
   "source": [
    "category1 = [\"Survived\",\"Sex\",\"Pclass\",\"Embarked\",\"SibSp\", \"Parch\"]\n",
    "for c in category1:\n",
    "    bar_plot(c)"
   ]
  },
  {
   "cell_type": "code",
   "execution_count": 30,
   "metadata": {
    "execution": {
     "iopub.execute_input": "2021-05-27T14:17:25.628084Z",
     "iopub.status.busy": "2021-05-27T14:17:25.627370Z",
     "iopub.status.idle": "2021-05-27T14:17:25.630061Z",
     "shell.execute_reply": "2021-05-27T14:17:25.629554Z"
    },
    "papermill": {
     "duration": 0.059165,
     "end_time": "2021-05-27T14:17:25.630172",
     "exception": false,
     "start_time": "2021-05-27T14:17:25.571007",
     "status": "completed"
    },
    "tags": []
   },
   "outputs": [],
   "source": [
    "def histogram(variable):\n",
    "    var = train[variable]\n",
    "    plt.figure(figsize = (9,3))\n",
    "    fig = train[variable].hist(bins = 10)\n",
    "    fig.set_xlabel(variable)\n",
    "    fig.set_ylabel('Survived')"
   ]
  },
  {
   "cell_type": "code",
   "execution_count": 31,
   "metadata": {
    "execution": {
     "iopub.execute_input": "2021-05-27T14:17:25.743770Z",
     "iopub.status.busy": "2021-05-27T14:17:25.739051Z",
     "iopub.status.idle": "2021-05-27T14:17:26.048429Z",
     "shell.execute_reply": "2021-05-27T14:17:26.048922Z"
    },
    "papermill": {
     "duration": 0.367059,
     "end_time": "2021-05-27T14:17:26.049061",
     "exception": false,
     "start_time": "2021-05-27T14:17:25.682002",
     "status": "completed"
    },
    "tags": []
   },
   "outputs": [
    {
     "data": {
      "image/png": "[encoded data removed]",
      "text/plain": [
       "<Figure size 648x216 with 1 Axes>"
      ]
     },
     "metadata": {
      "needs_background": "light"
     },
     "output_type": "display_data"
    },
    {
     "data": {
      "image/png": "[encoded data removed]",
      "text/plain": [
       "<Figure size 648x216 with 1 Axes>"
      ]
     },
     "metadata": {
      "needs_background": "light"
     },
     "output_type": "display_data"
    }
   ],
   "source": [
    "variables = ['Age' , 'Fare']\n",
    "for c in variables:\n",
    "    histogram(c)"
   ]
  },
  {
   "cell_type": "markdown",
   "metadata": {
    "papermill": {
     "duration": 0.052065,
     "end_time": "2021-05-27T14:17:26.153804",
     "exception": false,
     "start_time": "2021-05-27T14:17:26.101739",
     "status": "completed"
    },
    "tags": []
   },
   "source": [
    "**2b. BIVARIATE ANALYSIS**"
   ]
  },
  {
   "cell_type": "markdown",
   "metadata": {
    "papermill": {
     "duration": 0.057961,
     "end_time": "2021-05-27T14:17:26.273231",
     "exception": false,
     "start_time": "2021-05-27T14:17:26.215270",
     "status": "completed"
    },
    "tags": []
   },
   "source": [
    "* **Gender and Survived**"
   ]
  },
  {
   "cell_type": "code",
   "execution_count": 32,
   "metadata": {
    "execution": {
     "iopub.execute_input": "2021-05-27T14:17:26.415395Z",
     "iopub.status.busy": "2021-05-27T14:17:26.411401Z",
     "iopub.status.idle": "2021-05-27T14:17:26.593514Z",
     "shell.execute_reply": "2021-05-27T14:17:26.592989Z"
    },
    "papermill": {
     "duration": 0.250577,
     "end_time": "2021-05-27T14:17:26.593613",
     "exception": false,
     "start_time": "2021-05-27T14:17:26.343036",
     "status": "completed"
    },
    "tags": []
   },
   "outputs": [
    {
     "data": {
      "image/png": "[encoded data removed]",
      "text/plain": [
       "<Figure size 1080x576 with 1 Axes>"
      ]
     },
     "metadata": {},
     "output_type": "display_data"
    }
   ],
   "source": [
    "sns.set(style=\"darkgrid\")\n",
    "plt.subplots(figsize = (15,8))\n",
    "sns.countplot(x = 'Survived' , hue = 'Sex' , data = all_data)\n",
    "plt.title(\"Survived/Non-Survived Passenger Gender Distribution\", fontsize = 25,loc = 'center', pad = 40)\n",
    "plt.ylabel(\"% of passenger survived\", fontsize = 15, )\n",
    "plt.xlabel(\"Sex\",fontsize = 15);"
   ]
  },
  {
   "cell_type": "markdown",
   "metadata": {
    "papermill": {
     "duration": 0.053014,
     "end_time": "2021-05-27T14:17:26.701287",
     "exception": false,
     "start_time": "2021-05-27T14:17:26.648273",
     "status": "completed"
    },
    "tags": []
   },
   "source": [
    "* **PClass and Survived**"
   ]
  },
  {
   "cell_type": "code",
   "execution_count": 33,
   "metadata": {
    "execution": {
     "iopub.execute_input": "2021-05-27T14:17:26.820333Z",
     "iopub.status.busy": "2021-05-27T14:17:26.819249Z",
     "iopub.status.idle": "2021-05-27T14:17:26.998564Z",
     "shell.execute_reply": "2021-05-27T14:17:26.998967Z"
    },
    "papermill": {
     "duration": 0.244584,
     "end_time": "2021-05-27T14:17:26.999110",
     "exception": false,
     "start_time": "2021-05-27T14:17:26.754526",
     "status": "completed"
    },
    "tags": []
   },
   "outputs": [
    {
     "data": {
      "image/png": "[encoded data removed]",
      "text/plain": [
       "<Figure size 1080x576 with 1 Axes>"
      ]
     },
     "metadata": {},
     "output_type": "display_data"
    }
   ],
   "source": [
    "sns.set(style=\"darkgrid\")\n",
    "plt.subplots(figsize = (15,8))\n",
    "sns.countplot(x = 'Survived' , hue = 'Pclass' , data = all_data)\n",
    "plt.title(\"Survived/Non-Survived Passenger Pclass Distribution\", fontsize = 25,loc = 'center', pad = 40)\n",
    "plt.ylabel(\"% of passenger survived\", fontsize = 15, )\n",
    "plt.xlabel(\"Pclass\",fontsize = 15);"
   ]
  },
  {
   "cell_type": "markdown",
   "metadata": {
    "papermill": {
     "duration": 0.054428,
     "end_time": "2021-05-27T14:17:27.107068",
     "exception": false,
     "start_time": "2021-05-27T14:17:27.052640",
     "status": "completed"
    },
    "tags": []
   },
   "source": [
    "* **Fare and Survived**"
   ]
  },
  {
   "cell_type": "code",
   "execution_count": 34,
   "metadata": {
    "execution": {
     "iopub.execute_input": "2021-05-27T14:17:27.234124Z",
     "iopub.status.busy": "2021-05-27T14:17:27.229920Z",
     "iopub.status.idle": "2021-05-27T14:17:27.508502Z",
     "shell.execute_reply": "2021-05-27T14:17:27.507966Z"
    },
    "papermill": {
     "duration": 0.34652,
     "end_time": "2021-05-27T14:17:27.508612",
     "exception": false,
     "start_time": "2021-05-27T14:17:27.162092",
     "status": "completed"
    },
    "tags": []
   },
   "outputs": [
    {
     "data": {
      "image/png": "[encoded data removed]",
      "text/plain": [
       "<Figure size 1080x576 with 1 Axes>"
      ]
     },
     "metadata": {},
     "output_type": "display_data"
    }
   ],
   "source": [
    "fig = plt.figure(figsize=(15,8),)\n",
    "ax=sns.kdeplot(train.loc[(train['Survived'] == 0),'Fare'] , color='blue',label='not survived')\n",
    "ax=sns.kdeplot(train.loc[(train['Survived'] == 1),'Fare'] , color='g', label='survived')\n",
    "plt.title('Fare Distribution Survived vs Non Survived', fontsize = 25, pad = 40)\n",
    "plt.ylabel(\"Frequency of Passenger Survived\", fontsize = 15, labelpad = 20)\n",
    "plt.xlabel(\"Fare\", fontsize = 15, labelpad = 20);"
   ]
  },
  {
   "cell_type": "markdown",
   "metadata": {
    "papermill": {
     "duration": 0.055199,
     "end_time": "2021-05-27T14:17:27.619503",
     "exception": false,
     "start_time": "2021-05-27T14:17:27.564304",
     "status": "completed"
    },
    "tags": []
   },
   "source": [
    "* **Age and Survived**"
   ]
  },
  {
   "cell_type": "code",
   "execution_count": 35,
   "metadata": {
    "execution": {
     "iopub.execute_input": "2021-05-27T14:17:27.744269Z",
     "iopub.status.busy": "2021-05-27T14:17:27.740333Z",
     "iopub.status.idle": "2021-05-27T14:17:28.020200Z",
     "shell.execute_reply": "2021-05-27T14:17:28.019648Z"
    },
    "papermill": {
     "duration": 0.344503,
     "end_time": "2021-05-27T14:17:28.020334",
     "exception": false,
     "start_time": "2021-05-27T14:17:27.675831",
     "status": "completed"
    },
    "tags": []
   },
   "outputs": [
    {
     "data": {
      "image/png": "[encoded data removed]",
      "text/plain": [
       "<Figure size 1080x576 with 1 Axes>"
      ]
     },
     "metadata": {},
     "output_type": "display_data"
    }
   ],
   "source": [
    "fig = plt.figure(figsize=(15,8),)\n",
    "ax=sns.kdeplot(train.loc[(train['Survived'] == 0),'Age'] , color='blue',label='not survived')\n",
    "ax=sns.kdeplot(train.loc[(train['Survived'] == 1),'Age'] , color='g', label='survived')\n",
    "plt.title('Age Distribution - Survivors V.S. Non Survivors', fontsize = 25, pad = 40)\n",
    "plt.xlabel(\"Age\", fontsize = 15, labelpad = 20)\n",
    "plt.ylabel('Frequency', fontsize = 15, labelpad= 20);"
   ]
  },
  {
   "cell_type": "markdown",
   "metadata": {
    "papermill": {
     "duration": 0.059414,
     "end_time": "2021-05-27T14:17:28.137777",
     "exception": false,
     "start_time": "2021-05-27T14:17:28.078363",
     "status": "completed"
    },
    "tags": []
   },
   "source": [
    "**3. FEATURE ENGINEERING**"
   ]
  },
  {
   "cell_type": "markdown",
   "metadata": {
    "papermill": {
     "duration": 0.058634,
     "end_time": "2021-05-27T14:17:28.253411",
     "exception": false,
     "start_time": "2021-05-27T14:17:28.194777",
     "status": "completed"
    },
    "tags": []
   },
   "source": [
    "**title**"
   ]
  },
  {
   "cell_type": "markdown",
   "metadata": {
    "papermill": {
     "duration": 0.056478,
     "end_time": "2021-05-27T14:17:28.367854",
     "exception": false,
     "start_time": "2021-05-27T14:17:28.311376",
     "status": "completed"
    },
    "tags": []
   },
   "source": [
    "Getting the title of each name as a new feature"
   ]
  },
  {
   "cell_type": "code",
   "execution_count": 36,
   "metadata": {
    "execution": {
     "iopub.execute_input": "2021-05-27T14:17:28.489125Z",
     "iopub.status.busy": "2021-05-27T14:17:28.488318Z",
     "iopub.status.idle": "2021-05-27T14:17:28.491350Z",
     "shell.execute_reply": "2021-05-27T14:17:28.490894Z"
    },
    "papermill": {
     "duration": 0.066749,
     "end_time": "2021-05-27T14:17:28.491453",
     "exception": false,
     "start_time": "2021-05-27T14:17:28.424704",
     "status": "completed"
    },
    "tags": []
   },
   "outputs": [],
   "source": [
    "all_data['title']=all_data.Name.apply(lambda x: x.split('.')[0].split(',')[1].strip())"
   ]
  },
  {
   "cell_type": "code",
   "execution_count": 37,
   "metadata": {
    "execution": {
     "iopub.execute_input": "2021-05-27T14:17:28.613408Z",
     "iopub.status.busy": "2021-05-27T14:17:28.612484Z",
     "iopub.status.idle": "2021-05-27T14:17:28.615400Z",
     "shell.execute_reply": "2021-05-27T14:17:28.614953Z"
    },
    "papermill": {
     "duration": 0.067155,
     "end_time": "2021-05-27T14:17:28.615499",
     "exception": false,
     "start_time": "2021-05-27T14:17:28.548344",
     "status": "completed"
    },
    "tags": []
   },
   "outputs": [],
   "source": [
    "newtitles={\n",
    "    \"Capt\":       \"Officer\",\n",
    "    \"Col\":        \"Officer\",\n",
    "    \"Major\":      \"Officer\",\n",
    "    \"Jonkheer\":   \"Royalty\",\n",
    "    \"Don\":        \"Royalty\",\n",
    "    \"Sir\" :       \"Royalty\",\n",
    "    \"Dr\":         \"Officer\",\n",
    "    \"Rev\":        \"Officer\",\n",
    "    \"the Countess\":\"Royalty\",\n",
    "    \"Dona\":       \"Royalty\",\n",
    "    \"Mme\":        \"Mrs\",\n",
    "    \"Mlle\":       \"Miss\",\n",
    "    \"Ms\":         \"Mrs\",\n",
    "    \"Mr\" :        \"Mr\",\n",
    "    \"Mrs\" :       \"Mrs\",\n",
    "    \"Miss\" :      \"Miss\",\n",
    "    \"Master\" :    \"Master\",\n",
    "    \"Lady\" :      \"Royalty\"}\n",
    "all_data['title']=all_data.title.map(newtitles)"
   ]
  },
  {
   "cell_type": "code",
   "execution_count": 38,
   "metadata": {
    "execution": {
     "iopub.execute_input": "2021-05-27T14:17:28.736400Z",
     "iopub.status.busy": "2021-05-27T14:17:28.735681Z",
     "iopub.status.idle": "2021-05-27T14:17:28.739218Z",
     "shell.execute_reply": "2021-05-27T14:17:28.738678Z"
    },
    "papermill": {
     "duration": 0.066565,
     "end_time": "2021-05-27T14:17:28.739318",
     "exception": false,
     "start_time": "2021-05-27T14:17:28.672753",
     "status": "completed"
    },
    "tags": []
   },
   "outputs": [
    {
     "data": {
      "text/plain": [
       "array(['Mr', 'Mrs', 'Miss', 'Master', 'Royalty', 'Officer'], dtype=object)"
      ]
     },
     "execution_count": 38,
     "metadata": {},
     "output_type": "execute_result"
    }
   ],
   "source": [
    "all_data['title'].unique()"
   ]
  },
  {
   "cell_type": "code",
   "execution_count": 39,
   "metadata": {
    "execution": {
     "iopub.execute_input": "2021-05-27T14:17:28.857796Z",
     "iopub.status.busy": "2021-05-27T14:17:28.857221Z",
     "iopub.status.idle": "2021-05-27T14:17:29.008876Z",
     "shell.execute_reply": "2021-05-27T14:17:29.009463Z"
    },
    "papermill": {
     "duration": 0.212492,
     "end_time": "2021-05-27T14:17:29.009638",
     "exception": false,
     "start_time": "2021-05-27T14:17:28.797146",
     "status": "completed"
    },
    "tags": []
   },
   "outputs": [
    {
     "data": {
      "text/plain": [
       "<matplotlib.axes._subplots.AxesSubplot at 0x7febb18abc10>"
      ]
     },
     "execution_count": 39,
     "metadata": {},
     "output_type": "execute_result"
    },
    {
     "data": {
      "image/png": "[encoded data removed]",
      "text/plain": [
       "<Figure size 432x288 with 1 Axes>"
      ]
     },
     "metadata": {},
     "output_type": "display_data"
    }
   ],
   "source": [
    "sns.countplot( x = 'title' , data = all_data)"
   ]
  },
  {
   "cell_type": "code",
   "execution_count": 40,
   "metadata": {
    "execution": {
     "iopub.execute_input": "2021-05-27T14:17:29.140974Z",
     "iopub.status.busy": "2021-05-27T14:17:29.140388Z",
     "iopub.status.idle": "2021-05-27T14:17:29.146407Z",
     "shell.execute_reply": "2021-05-27T14:17:29.145854Z"
    },
    "papermill": {
     "duration": 0.073861,
     "end_time": "2021-05-27T14:17:29.146507",
     "exception": false,
     "start_time": "2021-05-27T14:17:29.072646",
     "status": "completed"
    },
    "tags": []
   },
   "outputs": [],
   "source": [
    "all_data.drop(['Name'], axis = 1 , inplace = True)"
   ]
  },
  {
   "cell_type": "markdown",
   "metadata": {
    "papermill": {
     "duration": 0.058095,
     "end_time": "2021-05-27T14:17:29.263849",
     "exception": false,
     "start_time": "2021-05-27T14:17:29.205754",
     "status": "completed"
    },
    "tags": []
   },
   "source": [
    "**Ticket**"
   ]
  },
  {
   "cell_type": "code",
   "execution_count": 41,
   "metadata": {
    "execution": {
     "iopub.execute_input": "2021-05-27T14:17:29.390656Z",
     "iopub.status.busy": "2021-05-27T14:17:29.389748Z",
     "iopub.status.idle": "2021-05-27T14:17:29.393210Z",
     "shell.execute_reply": "2021-05-27T14:17:29.393629Z"
    },
    "papermill": {
     "duration": 0.07156,
     "end_time": "2021-05-27T14:17:29.393787",
     "exception": false,
     "start_time": "2021-05-27T14:17:29.322227",
     "status": "completed"
    },
    "tags": []
   },
   "outputs": [
    {
     "data": {
      "text/plain": [
       "CA. 2343    11\n",
       "CA 2144      8\n",
       "1601         8\n",
       "PC 17608     7\n",
       "347077       7\n",
       "            ..\n",
       "349250       1\n",
       "345777       1\n",
       "349232       1\n",
       "366713       1\n",
       "335097       1\n",
       "Name: Ticket, Length: 929, dtype: int64"
      ]
     },
     "execution_count": 41,
     "metadata": {},
     "output_type": "execute_result"
    }
   ],
   "source": [
    "all_data['Ticket'].value_counts().sort_values(ascending = False)"
   ]
  },
  {
   "cell_type": "code",
   "execution_count": 42,
   "metadata": {
    "execution": {
     "iopub.execute_input": "2021-05-27T14:17:29.514142Z",
     "iopub.status.busy": "2021-05-27T14:17:29.513573Z",
     "iopub.status.idle": "2021-05-27T14:17:29.519429Z",
     "shell.execute_reply": "2021-05-27T14:17:29.518877Z"
    },
    "papermill": {
     "duration": 0.066822,
     "end_time": "2021-05-27T14:17:29.519532",
     "exception": false,
     "start_time": "2021-05-27T14:17:29.452710",
     "status": "completed"
    },
    "tags": []
   },
   "outputs": [],
   "source": [
    "all_data.drop(['Ticket'] , axis = 1,inplace = True)"
   ]
  },
  {
   "cell_type": "markdown",
   "metadata": {
    "papermill": {
     "duration": 0.059256,
     "end_time": "2021-05-27T14:17:29.638456",
     "exception": false,
     "start_time": "2021-05-27T14:17:29.579200",
     "status": "completed"
    },
    "tags": []
   },
   "source": [
    "**Family_size**"
   ]
  },
  {
   "cell_type": "code",
   "execution_count": 43,
   "metadata": {
    "execution": {
     "iopub.execute_input": "2021-05-27T14:17:29.761439Z",
     "iopub.status.busy": "2021-05-27T14:17:29.760922Z",
     "iopub.status.idle": "2021-05-27T14:17:29.768491Z",
     "shell.execute_reply": "2021-05-27T14:17:29.767969Z"
    },
    "papermill": {
     "duration": 0.069807,
     "end_time": "2021-05-27T14:17:29.768588",
     "exception": false,
     "start_time": "2021-05-27T14:17:29.698781",
     "status": "completed"
    },
    "tags": []
   },
   "outputs": [
    {
     "data": {
      "text/plain": [
       "0    2\n",
       "1    2\n",
       "2    1\n",
       "3    2\n",
       "4    1\n",
       "Name: Family_size, dtype: int64"
      ]
     },
     "execution_count": 43,
     "metadata": {},
     "output_type": "execute_result"
    }
   ],
   "source": [
    "all_data[\"Family_size\"] = all_data[\"Parch\"] + all_data[\"SibSp\"] + 1\n",
    "all_data['Family_size'].head()"
   ]
  },
  {
   "cell_type": "code",
   "execution_count": 44,
   "metadata": {
    "execution": {
     "iopub.execute_input": "2021-05-27T14:17:29.890051Z",
     "iopub.status.busy": "2021-05-27T14:17:29.889493Z",
     "iopub.status.idle": "2021-05-27T14:17:30.070296Z",
     "shell.execute_reply": "2021-05-27T14:17:30.070680Z"
    },
    "papermill": {
     "duration": 0.243202,
     "end_time": "2021-05-27T14:17:30.070833",
     "exception": false,
     "start_time": "2021-05-27T14:17:29.827631",
     "status": "completed"
    },
    "tags": []
   },
   "outputs": [
    {
     "data": {
      "text/plain": [
       "<matplotlib.axes._subplots.AxesSubplot at 0x7febb180e250>"
      ]
     },
     "execution_count": 44,
     "metadata": {},
     "output_type": "execute_result"
    },
    {
     "data": {
      "image/png": "[encoded data removed]",
      "text/plain": [
       "<Figure size 432x288 with 1 Axes>"
      ]
     },
     "metadata": {},
     "output_type": "display_data"
    }
   ],
   "source": [
    "sns.countplot('Family_size', data = all_data)"
   ]
  },
  {
   "cell_type": "code",
   "execution_count": 45,
   "metadata": {
    "execution": {
     "iopub.execute_input": "2021-05-27T14:17:30.199927Z",
     "iopub.status.busy": "2021-05-27T14:17:30.199081Z",
     "iopub.status.idle": "2021-05-27T14:17:30.202057Z",
     "shell.execute_reply": "2021-05-27T14:17:30.201568Z"
    },
    "papermill": {
     "duration": 0.069861,
     "end_time": "2021-05-27T14:17:30.202160",
     "exception": false,
     "start_time": "2021-05-27T14:17:30.132299",
     "status": "completed"
    },
    "tags": []
   },
   "outputs": [],
   "source": [
    "all_data.drop(['SibSp','Parch'] , axis = 1, inplace = True)"
   ]
  },
  {
   "cell_type": "markdown",
   "metadata": {
    "papermill": {
     "duration": 0.059389,
     "end_time": "2021-05-27T14:17:30.321146",
     "exception": false,
     "start_time": "2021-05-27T14:17:30.261757",
     "status": "completed"
    },
    "tags": []
   },
   "source": [
    "**PassengerId**"
   ]
  },
  {
   "cell_type": "code",
   "execution_count": 46,
   "metadata": {
    "execution": {
     "iopub.execute_input": "2021-05-27T14:17:30.446436Z",
     "iopub.status.busy": "2021-05-27T14:17:30.445853Z",
     "iopub.status.idle": "2021-05-27T14:17:30.450482Z",
     "shell.execute_reply": "2021-05-27T14:17:30.450895Z"
    },
    "papermill": {
     "duration": 0.069363,
     "end_time": "2021-05-27T14:17:30.451032",
     "exception": false,
     "start_time": "2021-05-27T14:17:30.381669",
     "status": "completed"
    },
    "tags": []
   },
   "outputs": [],
   "source": [
    "all_data.drop(['PassengerId'], axis = 1,inplace = True)"
   ]
  },
  {
   "cell_type": "markdown",
   "metadata": {
    "papermill": {
     "duration": 0.06044,
     "end_time": "2021-05-27T14:17:30.572771",
     "exception": false,
     "start_time": "2021-05-27T14:17:30.512331",
     "status": "completed"
    },
    "tags": []
   },
   "source": [
    "**Encoding of categorical variables**"
   ]
  },
  {
   "cell_type": "code",
   "execution_count": 47,
   "metadata": {
    "execution": {
     "iopub.execute_input": "2021-05-27T14:17:30.700827Z",
     "iopub.status.busy": "2021-05-27T14:17:30.696551Z",
     "iopub.status.idle": "2021-05-27T14:17:30.705394Z",
     "shell.execute_reply": "2021-05-27T14:17:30.704813Z"
    },
    "papermill": {
     "duration": 0.072567,
     "end_time": "2021-05-27T14:17:30.705552",
     "exception": false,
     "start_time": "2021-05-27T14:17:30.632985",
     "status": "completed"
    },
    "tags": []
   },
   "outputs": [],
   "source": [
    "all_data['Sex'] = all_data.Sex.map({'male' : 0 , 'female' : 1})"
   ]
  },
  {
   "cell_type": "code",
   "execution_count": 48,
   "metadata": {
    "execution": {
     "iopub.execute_input": "2021-05-27T14:17:30.837988Z",
     "iopub.status.busy": "2021-05-27T14:17:30.837391Z",
     "iopub.status.idle": "2021-05-27T14:17:30.858951Z",
     "shell.execute_reply": "2021-05-27T14:17:30.859405Z"
    },
    "papermill": {
     "duration": 0.089329,
     "end_time": "2021-05-27T14:17:30.859536",
     "exception": false,
     "start_time": "2021-05-27T14:17:30.770207",
     "status": "completed"
    },
    "tags": []
   },
   "outputs": [
    {
     "data": {
      "text/html": [
       "<div>\n",
       "<style scoped>\n",
       "    .dataframe tbody tr th:only-of-type {\n",
       "        vertical-align: middle;\n",
       "    }\n",
       "\n",
       "    .dataframe tbody tr th {\n",
       "        vertical-align: top;\n",
       "    }\n",
       "\n",
       "    .dataframe thead th {\n",
       "        text-align: right;\n",
       "    }\n",
       "</style>\n",
       "<table border=\"1\" class=\"dataframe\">\n",
       "  <thead>\n",
       "    <tr style=\"text-align: right;\">\n",
       "      <th></th>\n",
       "      <th>Survived</th>\n",
       "      <th>Sex</th>\n",
       "      <th>Age</th>\n",
       "      <th>Fare</th>\n",
       "      <th>Family_size</th>\n",
       "      <th>Embarked_C</th>\n",
       "      <th>Embarked_Q</th>\n",
       "      <th>Embarked_S</th>\n",
       "      <th>Pclass_1</th>\n",
       "      <th>Pclass_2</th>\n",
       "      <th>...</th>\n",
       "      <th>Cabin_E</th>\n",
       "      <th>Cabin_F</th>\n",
       "      <th>Cabin_G</th>\n",
       "      <th>Cabin_T</th>\n",
       "      <th>title_Master</th>\n",
       "      <th>title_Miss</th>\n",
       "      <th>title_Mr</th>\n",
       "      <th>title_Mrs</th>\n",
       "      <th>title_Officer</th>\n",
       "      <th>title_Royalty</th>\n",
       "    </tr>\n",
       "  </thead>\n",
       "  <tbody>\n",
       "    <tr>\n",
       "      <th>0</th>\n",
       "      <td>0.0</td>\n",
       "      <td>0</td>\n",
       "      <td>22.0</td>\n",
       "      <td>7.2500</td>\n",
       "      <td>2</td>\n",
       "      <td>0</td>\n",
       "      <td>0</td>\n",
       "      <td>1</td>\n",
       "      <td>0</td>\n",
       "      <td>0</td>\n",
       "      <td>...</td>\n",
       "      <td>0</td>\n",
       "      <td>0</td>\n",
       "      <td>1</td>\n",
       "      <td>0</td>\n",
       "      <td>0</td>\n",
       "      <td>0</td>\n",
       "      <td>1</td>\n",
       "      <td>0</td>\n",
       "      <td>0</td>\n",
       "      <td>0</td>\n",
       "    </tr>\n",
       "    <tr>\n",
       "      <th>1</th>\n",
       "      <td>1.0</td>\n",
       "      <td>1</td>\n",
       "      <td>38.0</td>\n",
       "      <td>71.2833</td>\n",
       "      <td>2</td>\n",
       "      <td>1</td>\n",
       "      <td>0</td>\n",
       "      <td>0</td>\n",
       "      <td>1</td>\n",
       "      <td>0</td>\n",
       "      <td>...</td>\n",
       "      <td>0</td>\n",
       "      <td>0</td>\n",
       "      <td>0</td>\n",
       "      <td>0</td>\n",
       "      <td>0</td>\n",
       "      <td>0</td>\n",
       "      <td>0</td>\n",
       "      <td>1</td>\n",
       "      <td>0</td>\n",
       "      <td>0</td>\n",
       "    </tr>\n",
       "    <tr>\n",
       "      <th>2</th>\n",
       "      <td>1.0</td>\n",
       "      <td>1</td>\n",
       "      <td>26.0</td>\n",
       "      <td>7.9250</td>\n",
       "      <td>1</td>\n",
       "      <td>0</td>\n",
       "      <td>0</td>\n",
       "      <td>1</td>\n",
       "      <td>0</td>\n",
       "      <td>0</td>\n",
       "      <td>...</td>\n",
       "      <td>0</td>\n",
       "      <td>0</td>\n",
       "      <td>1</td>\n",
       "      <td>0</td>\n",
       "      <td>0</td>\n",
       "      <td>1</td>\n",
       "      <td>0</td>\n",
       "      <td>0</td>\n",
       "      <td>0</td>\n",
       "      <td>0</td>\n",
       "    </tr>\n",
       "    <tr>\n",
       "      <th>3</th>\n",
       "      <td>1.0</td>\n",
       "      <td>1</td>\n",
       "      <td>35.0</td>\n",
       "      <td>53.1000</td>\n",
       "      <td>2</td>\n",
       "      <td>0</td>\n",
       "      <td>0</td>\n",
       "      <td>1</td>\n",
       "      <td>1</td>\n",
       "      <td>0</td>\n",
       "      <td>...</td>\n",
       "      <td>0</td>\n",
       "      <td>0</td>\n",
       "      <td>0</td>\n",
       "      <td>0</td>\n",
       "      <td>0</td>\n",
       "      <td>0</td>\n",
       "      <td>0</td>\n",
       "      <td>1</td>\n",
       "      <td>0</td>\n",
       "      <td>0</td>\n",
       "    </tr>\n",
       "    <tr>\n",
       "      <th>4</th>\n",
       "      <td>0.0</td>\n",
       "      <td>0</td>\n",
       "      <td>35.0</td>\n",
       "      <td>8.0500</td>\n",
       "      <td>1</td>\n",
       "      <td>0</td>\n",
       "      <td>0</td>\n",
       "      <td>1</td>\n",
       "      <td>0</td>\n",
       "      <td>0</td>\n",
       "      <td>...</td>\n",
       "      <td>0</td>\n",
       "      <td>0</td>\n",
       "      <td>1</td>\n",
       "      <td>0</td>\n",
       "      <td>0</td>\n",
       "      <td>0</td>\n",
       "      <td>1</td>\n",
       "      <td>0</td>\n",
       "      <td>0</td>\n",
       "      <td>0</td>\n",
       "    </tr>\n",
       "  </tbody>\n",
       "</table>\n",
       "<p>5 rows × 25 columns</p>\n",
       "</div>"
      ],
      "text/plain": [
       "   Survived  Sex   Age     Fare  Family_size  Embarked_C  Embarked_Q  \\\n",
       "0       0.0    0  22.0   7.2500            2           0           0   \n",
       "1       1.0    1  38.0  71.2833            2           1           0   \n",
       "2       1.0    1  26.0   7.9250            1           0           0   \n",
       "3       1.0    1  35.0  53.1000            2           0           0   \n",
       "4       0.0    0  35.0   8.0500            1           0           0   \n",
       "\n",
       "   Embarked_S  Pclass_1  Pclass_2  ...  Cabin_E  Cabin_F  Cabin_G  Cabin_T  \\\n",
       "0           1         0         0  ...        0        0        1        0   \n",
       "1           0         1         0  ...        0        0        0        0   \n",
       "2           1         0         0  ...        0        0        1        0   \n",
       "3           1         1         0  ...        0        0        0        0   \n",
       "4           1         0         0  ...        0        0        1        0   \n",
       "\n",
       "   title_Master  title_Miss  title_Mr  title_Mrs  title_Officer  title_Royalty  \n",
       "0             0           0         1          0              0              0  \n",
       "1             0           0         0          1              0              0  \n",
       "2             0           1         0          0              0              0  \n",
       "3             0           0         0          1              0              0  \n",
       "4             0           0         1          0              0              0  \n",
       "\n",
       "[5 rows x 25 columns]"
      ]
     },
     "execution_count": 48,
     "metadata": {},
     "output_type": "execute_result"
    }
   ],
   "source": [
    "converting_features = [\"Embarked\", \"Pclass\", \"Cabin\", \"title\"]\n",
    "all_data = pd.get_dummies(all_data, columns=converting_features, prefix=converting_features)\n",
    "all_data.head()"
   ]
  },
  {
   "cell_type": "code",
   "execution_count": 49,
   "metadata": {
    "execution": {
     "iopub.execute_input": "2021-05-27T14:17:30.986995Z",
     "iopub.status.busy": "2021-05-27T14:17:30.986438Z",
     "iopub.status.idle": "2021-05-27T14:17:30.991679Z",
     "shell.execute_reply": "2021-05-27T14:17:30.991250Z"
    },
    "papermill": {
     "duration": 0.068647,
     "end_time": "2021-05-27T14:17:30.991824",
     "exception": false,
     "start_time": "2021-05-27T14:17:30.923177",
     "status": "completed"
    },
    "tags": []
   },
   "outputs": [
    {
     "name": "stdout",
     "output_type": "stream",
     "text": [
      "['Survived', 'Sex', 'Age', 'Fare', 'Family_size', 'Embarked_C', 'Embarked_Q', 'Embarked_S', 'Pclass_1', 'Pclass_2', 'Pclass_3', 'Cabin_A', 'Cabin_B', 'Cabin_C', 'Cabin_D', 'Cabin_E', 'Cabin_F', 'Cabin_G', 'Cabin_T', 'title_Master', 'title_Miss', 'title_Mr', 'title_Mrs', 'title_Officer', 'title_Royalty']\n"
     ]
    }
   ],
   "source": [
    "cols = all_data.columns.tolist()\n",
    "print(cols)"
   ]
  },
  {
   "cell_type": "code",
   "execution_count": 50,
   "metadata": {
    "execution": {
     "iopub.execute_input": "2021-05-27T14:17:31.117758Z",
     "iopub.status.busy": "2021-05-27T14:17:31.117249Z",
     "iopub.status.idle": "2021-05-27T14:17:31.121207Z",
     "shell.execute_reply": "2021-05-27T14:17:31.121617Z"
    },
    "papermill": {
     "duration": 0.068702,
     "end_time": "2021-05-27T14:17:31.121771",
     "exception": false,
     "start_time": "2021-05-27T14:17:31.053069",
     "status": "completed"
    },
    "tags": []
   },
   "outputs": [],
   "source": [
    "train = all_data[:len(train)]\n",
    "test = all_data[len(train):]"
   ]
  },
  {
   "cell_type": "markdown",
   "metadata": {
    "papermill": {
     "duration": 0.061152,
     "end_time": "2021-05-27T14:17:31.246057",
     "exception": false,
     "start_time": "2021-05-27T14:17:31.184905",
     "status": "completed"
    },
    "tags": []
   },
   "source": [
    "**Seperating dependant and independent variables**"
   ]
  },
  {
   "cell_type": "code",
   "execution_count": 51,
   "metadata": {
    "execution": {
     "iopub.execute_input": "2021-05-27T14:17:31.377069Z",
     "iopub.status.busy": "2021-05-27T14:17:31.376178Z",
     "iopub.status.idle": "2021-05-27T14:17:31.383287Z",
     "shell.execute_reply": "2021-05-27T14:17:31.382805Z"
    },
    "papermill": {
     "duration": 0.075002,
     "end_time": "2021-05-27T14:17:31.383393",
     "exception": false,
     "start_time": "2021-05-27T14:17:31.308391",
     "status": "completed"
    },
    "tags": []
   },
   "outputs": [
    {
     "name": "stdout",
     "output_type": "stream",
     "text": [
      "(891, 24)\n",
      "(418, 24)\n"
     ]
    }
   ],
   "source": [
    "y = train['Survived']\n",
    "X_train = train.drop('Survived', axis = 1)\n",
    "test = test.drop('Survived', axis = 1)\n",
    "print(X_train.shape)\n",
    "print(test.shape)"
   ]
  },
  {
   "cell_type": "markdown",
   "metadata": {
    "papermill": {
     "duration": 0.061103,
     "end_time": "2021-05-27T14:17:31.506046",
     "exception": false,
     "start_time": "2021-05-27T14:17:31.444943",
     "status": "completed"
    },
    "tags": []
   },
   "source": [
    "**Splitting the training data**"
   ]
  },
  {
   "cell_type": "code",
   "execution_count": 52,
   "metadata": {
    "execution": {
     "iopub.execute_input": "2021-05-27T14:17:31.635418Z",
     "iopub.status.busy": "2021-05-27T14:17:31.634830Z",
     "iopub.status.idle": "2021-05-27T14:17:31.745605Z",
     "shell.execute_reply": "2021-05-27T14:17:31.745017Z"
    },
    "papermill": {
     "duration": 0.177859,
     "end_time": "2021-05-27T14:17:31.745741",
     "exception": false,
     "start_time": "2021-05-27T14:17:31.567882",
     "status": "completed"
    },
    "tags": []
   },
   "outputs": [],
   "source": [
    "from sklearn.model_selection import train_test_split\n",
    "X_train , X_test , y_train , y_test = train_test_split(X_train , y , test_size = 0.33, random_state = 0)\n"
   ]
  },
  {
   "cell_type": "code",
   "execution_count": 53,
   "metadata": {
    "execution": {
     "iopub.execute_input": "2021-05-27T14:17:31.874736Z",
     "iopub.status.busy": "2021-05-27T14:17:31.874120Z",
     "iopub.status.idle": "2021-05-27T14:17:31.878251Z",
     "shell.execute_reply": "2021-05-27T14:17:31.877721Z"
    },
    "papermill": {
     "duration": 0.07075,
     "end_time": "2021-05-27T14:17:31.878349",
     "exception": false,
     "start_time": "2021-05-27T14:17:31.807599",
     "status": "completed"
    },
    "tags": []
   },
   "outputs": [
    {
     "data": {
      "text/plain": [
       "((596, 24), (295, 24), (596,), (295,))"
      ]
     },
     "execution_count": 53,
     "metadata": {},
     "output_type": "execute_result"
    }
   ],
   "source": [
    "X_train.shape, X_test.shape, y_train.shape, y_test.shape\n"
   ]
  },
  {
   "cell_type": "markdown",
   "metadata": {
    "papermill": {
     "duration": 0.062873,
     "end_time": "2021-05-27T14:17:32.003498",
     "exception": false,
     "start_time": "2021-05-27T14:17:31.940625",
     "status": "completed"
    },
    "tags": []
   },
   "source": [
    "**4. FEATURE SCALING**"
   ]
  },
  {
   "cell_type": "markdown",
   "metadata": {
    "papermill": {
     "duration": 0.062769,
     "end_time": "2021-05-27T14:17:32.128949",
     "exception": false,
     "start_time": "2021-05-27T14:17:32.066180",
     "status": "completed"
    },
    "tags": []
   },
   "source": [
    "*Before Scaling*"
   ]
  },
  {
   "cell_type": "code",
   "execution_count": 54,
   "metadata": {
    "execution": {
     "iopub.execute_input": "2021-05-27T14:17:32.258493Z",
     "iopub.status.busy": "2021-05-27T14:17:32.257975Z",
     "iopub.status.idle": "2021-05-27T14:17:32.275256Z",
     "shell.execute_reply": "2021-05-27T14:17:32.274795Z"
    },
    "papermill": {
     "duration": 0.083049,
     "end_time": "2021-05-27T14:17:32.275362",
     "exception": false,
     "start_time": "2021-05-27T14:17:32.192313",
     "status": "completed"
    },
    "tags": []
   },
   "outputs": [
    {
     "data": {
      "text/html": [
       "<div>\n",
       "<style scoped>\n",
       "    .dataframe tbody tr th:only-of-type {\n",
       "        vertical-align: middle;\n",
       "    }\n",
       "\n",
       "    .dataframe tbody tr th {\n",
       "        vertical-align: top;\n",
       "    }\n",
       "\n",
       "    .dataframe thead th {\n",
       "        text-align: right;\n",
       "    }\n",
       "</style>\n",
       "<table border=\"1\" class=\"dataframe\">\n",
       "  <thead>\n",
       "    <tr style=\"text-align: right;\">\n",
       "      <th></th>\n",
       "      <th>Sex</th>\n",
       "      <th>Age</th>\n",
       "      <th>Fare</th>\n",
       "      <th>Family_size</th>\n",
       "      <th>Embarked_C</th>\n",
       "      <th>Embarked_Q</th>\n",
       "      <th>Embarked_S</th>\n",
       "      <th>Pclass_1</th>\n",
       "      <th>Pclass_2</th>\n",
       "      <th>Pclass_3</th>\n",
       "      <th>...</th>\n",
       "      <th>Cabin_E</th>\n",
       "      <th>Cabin_F</th>\n",
       "      <th>Cabin_G</th>\n",
       "      <th>Cabin_T</th>\n",
       "      <th>title_Master</th>\n",
       "      <th>title_Miss</th>\n",
       "      <th>title_Mr</th>\n",
       "      <th>title_Mrs</th>\n",
       "      <th>title_Officer</th>\n",
       "      <th>title_Royalty</th>\n",
       "    </tr>\n",
       "  </thead>\n",
       "  <tbody>\n",
       "    <tr>\n",
       "      <th>242</th>\n",
       "      <td>0</td>\n",
       "      <td>29.0</td>\n",
       "      <td>10.50</td>\n",
       "      <td>1</td>\n",
       "      <td>0</td>\n",
       "      <td>0</td>\n",
       "      <td>1</td>\n",
       "      <td>0</td>\n",
       "      <td>1</td>\n",
       "      <td>0</td>\n",
       "      <td>...</td>\n",
       "      <td>0</td>\n",
       "      <td>0</td>\n",
       "      <td>1</td>\n",
       "      <td>0</td>\n",
       "      <td>0</td>\n",
       "      <td>0</td>\n",
       "      <td>1</td>\n",
       "      <td>0</td>\n",
       "      <td>0</td>\n",
       "      <td>0</td>\n",
       "    </tr>\n",
       "    <tr>\n",
       "      <th>344</th>\n",
       "      <td>0</td>\n",
       "      <td>36.0</td>\n",
       "      <td>13.00</td>\n",
       "      <td>1</td>\n",
       "      <td>0</td>\n",
       "      <td>0</td>\n",
       "      <td>1</td>\n",
       "      <td>0</td>\n",
       "      <td>1</td>\n",
       "      <td>0</td>\n",
       "      <td>...</td>\n",
       "      <td>0</td>\n",
       "      <td>0</td>\n",
       "      <td>1</td>\n",
       "      <td>0</td>\n",
       "      <td>0</td>\n",
       "      <td>0</td>\n",
       "      <td>1</td>\n",
       "      <td>0</td>\n",
       "      <td>0</td>\n",
       "      <td>0</td>\n",
       "    </tr>\n",
       "    <tr>\n",
       "      <th>170</th>\n",
       "      <td>0</td>\n",
       "      <td>61.0</td>\n",
       "      <td>33.50</td>\n",
       "      <td>1</td>\n",
       "      <td>0</td>\n",
       "      <td>0</td>\n",
       "      <td>1</td>\n",
       "      <td>1</td>\n",
       "      <td>0</td>\n",
       "      <td>0</td>\n",
       "      <td>...</td>\n",
       "      <td>0</td>\n",
       "      <td>0</td>\n",
       "      <td>0</td>\n",
       "      <td>0</td>\n",
       "      <td>0</td>\n",
       "      <td>0</td>\n",
       "      <td>1</td>\n",
       "      <td>0</td>\n",
       "      <td>0</td>\n",
       "      <td>0</td>\n",
       "    </tr>\n",
       "    <tr>\n",
       "      <th>187</th>\n",
       "      <td>0</td>\n",
       "      <td>45.0</td>\n",
       "      <td>26.55</td>\n",
       "      <td>1</td>\n",
       "      <td>0</td>\n",
       "      <td>0</td>\n",
       "      <td>1</td>\n",
       "      <td>1</td>\n",
       "      <td>0</td>\n",
       "      <td>0</td>\n",
       "      <td>...</td>\n",
       "      <td>0</td>\n",
       "      <td>1</td>\n",
       "      <td>0</td>\n",
       "      <td>0</td>\n",
       "      <td>0</td>\n",
       "      <td>0</td>\n",
       "      <td>1</td>\n",
       "      <td>0</td>\n",
       "      <td>0</td>\n",
       "      <td>0</td>\n",
       "    </tr>\n",
       "    <tr>\n",
       "      <th>800</th>\n",
       "      <td>0</td>\n",
       "      <td>34.0</td>\n",
       "      <td>13.00</td>\n",
       "      <td>1</td>\n",
       "      <td>0</td>\n",
       "      <td>0</td>\n",
       "      <td>1</td>\n",
       "      <td>0</td>\n",
       "      <td>1</td>\n",
       "      <td>0</td>\n",
       "      <td>...</td>\n",
       "      <td>0</td>\n",
       "      <td>0</td>\n",
       "      <td>1</td>\n",
       "      <td>0</td>\n",
       "      <td>0</td>\n",
       "      <td>0</td>\n",
       "      <td>1</td>\n",
       "      <td>0</td>\n",
       "      <td>0</td>\n",
       "      <td>0</td>\n",
       "    </tr>\n",
       "  </tbody>\n",
       "</table>\n",
       "<p>5 rows × 24 columns</p>\n",
       "</div>"
      ],
      "text/plain": [
       "     Sex   Age   Fare  Family_size  Embarked_C  Embarked_Q  Embarked_S  \\\n",
       "242    0  29.0  10.50            1           0           0           1   \n",
       "344    0  36.0  13.00            1           0           0           1   \n",
       "170    0  61.0  33.50            1           0           0           1   \n",
       "187    0  45.0  26.55            1           0           0           1   \n",
       "800    0  34.0  13.00            1           0           0           1   \n",
       "\n",
       "     Pclass_1  Pclass_2  Pclass_3  ...  Cabin_E  Cabin_F  Cabin_G  Cabin_T  \\\n",
       "242         0         1         0  ...        0        0        1        0   \n",
       "344         0         1         0  ...        0        0        1        0   \n",
       "170         1         0         0  ...        0        0        0        0   \n",
       "187         1         0         0  ...        0        1        0        0   \n",
       "800         0         1         0  ...        0        0        1        0   \n",
       "\n",
       "     title_Master  title_Miss  title_Mr  title_Mrs  title_Officer  \\\n",
       "242             0           0         1          0              0   \n",
       "344             0           0         1          0              0   \n",
       "170             0           0         1          0              0   \n",
       "187             0           0         1          0              0   \n",
       "800             0           0         1          0              0   \n",
       "\n",
       "     title_Royalty  \n",
       "242              0  \n",
       "344              0  \n",
       "170              0  \n",
       "187              0  \n",
       "800              0  \n",
       "\n",
       "[5 rows x 24 columns]"
      ]
     },
     "execution_count": 54,
     "metadata": {},
     "output_type": "execute_result"
    }
   ],
   "source": [
    "headers = X_train.columns \n",
    "X_train.head()"
   ]
  },
  {
   "cell_type": "code",
   "execution_count": 55,
   "metadata": {
    "execution": {
     "iopub.execute_input": "2021-05-27T14:17:32.408879Z",
     "iopub.status.busy": "2021-05-27T14:17:32.408256Z",
     "iopub.status.idle": "2021-05-27T14:17:32.420138Z",
     "shell.execute_reply": "2021-05-27T14:17:32.420532Z"
    },
    "papermill": {
     "duration": 0.077611,
     "end_time": "2021-05-27T14:17:32.420668",
     "exception": false,
     "start_time": "2021-05-27T14:17:32.343057",
     "status": "completed"
    },
    "tags": []
   },
   "outputs": [],
   "source": [
    "from sklearn.preprocessing import StandardScaler\n",
    "std_scale = StandardScaler()\n",
    "X_train = std_scale.fit_transform(X_train)\n",
    "test = std_scale.fit_transform(test)\n"
   ]
  },
  {
   "cell_type": "markdown",
   "metadata": {
    "papermill": {
     "duration": 0.06304,
     "end_time": "2021-05-27T14:17:32.547089",
     "exception": false,
     "start_time": "2021-05-27T14:17:32.484049",
     "status": "completed"
    },
    "tags": []
   },
   "source": [
    "*After Scaling*"
   ]
  },
  {
   "cell_type": "code",
   "execution_count": 56,
   "metadata": {
    "execution": {
     "iopub.execute_input": "2021-05-27T14:17:32.676457Z",
     "iopub.status.busy": "2021-05-27T14:17:32.675892Z",
     "iopub.status.idle": "2021-05-27T14:17:32.696551Z",
     "shell.execute_reply": "2021-05-27T14:17:32.696963Z"
    },
    "papermill": {
     "duration": 0.086827,
     "end_time": "2021-05-27T14:17:32.697098",
     "exception": false,
     "start_time": "2021-05-27T14:17:32.610271",
     "status": "completed"
    },
    "tags": []
   },
   "outputs": [
    {
     "data": {
      "text/html": [
       "<div>\n",
       "<style scoped>\n",
       "    .dataframe tbody tr th:only-of-type {\n",
       "        vertical-align: middle;\n",
       "    }\n",
       "\n",
       "    .dataframe tbody tr th {\n",
       "        vertical-align: top;\n",
       "    }\n",
       "\n",
       "    .dataframe thead th {\n",
       "        text-align: right;\n",
       "    }\n",
       "</style>\n",
       "<table border=\"1\" class=\"dataframe\">\n",
       "  <thead>\n",
       "    <tr style=\"text-align: right;\">\n",
       "      <th></th>\n",
       "      <th>Sex</th>\n",
       "      <th>Age</th>\n",
       "      <th>Fare</th>\n",
       "      <th>Family_size</th>\n",
       "      <th>Embarked_C</th>\n",
       "      <th>Embarked_Q</th>\n",
       "      <th>Embarked_S</th>\n",
       "      <th>Pclass_1</th>\n",
       "      <th>Pclass_2</th>\n",
       "      <th>Pclass_3</th>\n",
       "      <th>...</th>\n",
       "      <th>Cabin_E</th>\n",
       "      <th>Cabin_F</th>\n",
       "      <th>Cabin_G</th>\n",
       "      <th>Cabin_T</th>\n",
       "      <th>title_Master</th>\n",
       "      <th>title_Miss</th>\n",
       "      <th>title_Mr</th>\n",
       "      <th>title_Mrs</th>\n",
       "      <th>title_Officer</th>\n",
       "      <th>title_Royalty</th>\n",
       "    </tr>\n",
       "  </thead>\n",
       "  <tbody>\n",
       "    <tr>\n",
       "      <th>0</th>\n",
       "      <td>-0.724083</td>\n",
       "      <td>-0.011286</td>\n",
       "      <td>-0.455103</td>\n",
       "      <td>-0.546499</td>\n",
       "      <td>-0.462438</td>\n",
       "      <td>-0.315644</td>\n",
       "      <td>0.603195</td>\n",
       "      <td>-0.577350</td>\n",
       "      <td>1.931362</td>\n",
       "      <td>-1.080404</td>\n",
       "      <td>...</td>\n",
       "      <td>-0.230225</td>\n",
       "      <td>-0.416207</td>\n",
       "      <td>0.996650</td>\n",
       "      <td>-0.245964</td>\n",
       "      <td>-0.226156</td>\n",
       "      <td>-0.496852</td>\n",
       "      <td>0.832575</td>\n",
       "      <td>-0.407849</td>\n",
       "      <td>-0.123823</td>\n",
       "      <td>-0.071127</td>\n",
       "    </tr>\n",
       "    <tr>\n",
       "      <th>1</th>\n",
       "      <td>-0.724083</td>\n",
       "      <td>0.520756</td>\n",
       "      <td>-0.403337</td>\n",
       "      <td>-0.546499</td>\n",
       "      <td>-0.462438</td>\n",
       "      <td>-0.315644</td>\n",
       "      <td>0.603195</td>\n",
       "      <td>-0.577350</td>\n",
       "      <td>1.931362</td>\n",
       "      <td>-1.080404</td>\n",
       "      <td>...</td>\n",
       "      <td>-0.230225</td>\n",
       "      <td>-0.416207</td>\n",
       "      <td>0.996650</td>\n",
       "      <td>-0.245964</td>\n",
       "      <td>-0.226156</td>\n",
       "      <td>-0.496852</td>\n",
       "      <td>0.832575</td>\n",
       "      <td>-0.407849</td>\n",
       "      <td>-0.123823</td>\n",
       "      <td>-0.071127</td>\n",
       "    </tr>\n",
       "    <tr>\n",
       "      <th>2</th>\n",
       "      <td>-0.724083</td>\n",
       "      <td>2.420905</td>\n",
       "      <td>0.021148</td>\n",
       "      <td>-0.546499</td>\n",
       "      <td>-0.462438</td>\n",
       "      <td>-0.315644</td>\n",
       "      <td>0.603195</td>\n",
       "      <td>1.732051</td>\n",
       "      <td>-0.517769</td>\n",
       "      <td>-1.080404</td>\n",
       "      <td>...</td>\n",
       "      <td>-0.230225</td>\n",
       "      <td>-0.416207</td>\n",
       "      <td>-1.003361</td>\n",
       "      <td>-0.245964</td>\n",
       "      <td>-0.226156</td>\n",
       "      <td>-0.496852</td>\n",
       "      <td>0.832575</td>\n",
       "      <td>-0.407849</td>\n",
       "      <td>-0.123823</td>\n",
       "      <td>-0.071127</td>\n",
       "    </tr>\n",
       "    <tr>\n",
       "      <th>3</th>\n",
       "      <td>-0.724083</td>\n",
       "      <td>1.204810</td>\n",
       "      <td>-0.122762</td>\n",
       "      <td>-0.546499</td>\n",
       "      <td>-0.462438</td>\n",
       "      <td>-0.315644</td>\n",
       "      <td>0.603195</td>\n",
       "      <td>1.732051</td>\n",
       "      <td>-0.517769</td>\n",
       "      <td>-1.080404</td>\n",
       "      <td>...</td>\n",
       "      <td>-0.230225</td>\n",
       "      <td>2.402650</td>\n",
       "      <td>-1.003361</td>\n",
       "      <td>-0.245964</td>\n",
       "      <td>-0.226156</td>\n",
       "      <td>-0.496852</td>\n",
       "      <td>0.832575</td>\n",
       "      <td>-0.407849</td>\n",
       "      <td>-0.123823</td>\n",
       "      <td>-0.071127</td>\n",
       "    </tr>\n",
       "    <tr>\n",
       "      <th>4</th>\n",
       "      <td>-0.724083</td>\n",
       "      <td>0.368744</td>\n",
       "      <td>-0.403337</td>\n",
       "      <td>-0.546499</td>\n",
       "      <td>-0.462438</td>\n",
       "      <td>-0.315644</td>\n",
       "      <td>0.603195</td>\n",
       "      <td>-0.577350</td>\n",
       "      <td>1.931362</td>\n",
       "      <td>-1.080404</td>\n",
       "      <td>...</td>\n",
       "      <td>-0.230225</td>\n",
       "      <td>-0.416207</td>\n",
       "      <td>0.996650</td>\n",
       "      <td>-0.245964</td>\n",
       "      <td>-0.226156</td>\n",
       "      <td>-0.496852</td>\n",
       "      <td>0.832575</td>\n",
       "      <td>-0.407849</td>\n",
       "      <td>-0.123823</td>\n",
       "      <td>-0.071127</td>\n",
       "    </tr>\n",
       "  </tbody>\n",
       "</table>\n",
       "<p>5 rows × 24 columns</p>\n",
       "</div>"
      ],
      "text/plain": [
       "        Sex       Age      Fare  Family_size  Embarked_C  Embarked_Q  \\\n",
       "0 -0.724083 -0.011286 -0.455103    -0.546499   -0.462438   -0.315644   \n",
       "1 -0.724083  0.520756 -0.403337    -0.546499   -0.462438   -0.315644   \n",
       "2 -0.724083  2.420905  0.021148    -0.546499   -0.462438   -0.315644   \n",
       "3 -0.724083  1.204810 -0.122762    -0.546499   -0.462438   -0.315644   \n",
       "4 -0.724083  0.368744 -0.403337    -0.546499   -0.462438   -0.315644   \n",
       "\n",
       "   Embarked_S  Pclass_1  Pclass_2  Pclass_3  ...   Cabin_E   Cabin_F  \\\n",
       "0    0.603195 -0.577350  1.931362 -1.080404  ... -0.230225 -0.416207   \n",
       "1    0.603195 -0.577350  1.931362 -1.080404  ... -0.230225 -0.416207   \n",
       "2    0.603195  1.732051 -0.517769 -1.080404  ... -0.230225 -0.416207   \n",
       "3    0.603195  1.732051 -0.517769 -1.080404  ... -0.230225  2.402650   \n",
       "4    0.603195 -0.577350  1.931362 -1.080404  ... -0.230225 -0.416207   \n",
       "\n",
       "    Cabin_G   Cabin_T  title_Master  title_Miss  title_Mr  title_Mrs  \\\n",
       "0  0.996650 -0.245964     -0.226156   -0.496852  0.832575  -0.407849   \n",
       "1  0.996650 -0.245964     -0.226156   -0.496852  0.832575  -0.407849   \n",
       "2 -1.003361 -0.245964     -0.226156   -0.496852  0.832575  -0.407849   \n",
       "3 -1.003361 -0.245964     -0.226156   -0.496852  0.832575  -0.407849   \n",
       "4  0.996650 -0.245964     -0.226156   -0.496852  0.832575  -0.407849   \n",
       "\n",
       "   title_Officer  title_Royalty  \n",
       "0      -0.123823      -0.071127  \n",
       "1      -0.123823      -0.071127  \n",
       "2      -0.123823      -0.071127  \n",
       "3      -0.123823      -0.071127  \n",
       "4      -0.123823      -0.071127  \n",
       "\n",
       "[5 rows x 24 columns]"
      ]
     },
     "execution_count": 56,
     "metadata": {},
     "output_type": "execute_result"
    }
   ],
   "source": [
    "pd.DataFrame(X_train , columns = headers).head()"
   ]
  },
  {
   "cell_type": "markdown",
   "metadata": {
    "papermill": {
     "duration": 0.063345,
     "end_time": "2021-05-27T14:17:32.866666",
     "exception": false,
     "start_time": "2021-05-27T14:17:32.803321",
     "status": "completed"
    },
    "tags": []
   },
   "source": [
    "**5. MODELLING  THE  DATA**"
   ]
  },
  {
   "cell_type": "code",
   "execution_count": 57,
   "metadata": {
    "execution": {
     "iopub.execute_input": "2021-05-27T14:17:32.998120Z",
     "iopub.status.busy": "2021-05-27T14:17:32.997497Z",
     "iopub.status.idle": "2021-05-27T14:17:33.078820Z",
     "shell.execute_reply": "2021-05-27T14:17:33.078270Z"
    },
    "papermill": {
     "duration": 0.148612,
     "end_time": "2021-05-27T14:17:33.078941",
     "exception": false,
     "start_time": "2021-05-27T14:17:32.930329",
     "status": "completed"
    },
    "tags": []
   },
   "outputs": [],
   "source": [
    "from sklearn.linear_model import LogisticRegression\n",
    "logmodel = LogisticRegression()"
   ]
  },
  {
   "cell_type": "code",
   "execution_count": 58,
   "metadata": {
    "execution": {
     "iopub.execute_input": "2021-05-27T14:17:33.215141Z",
     "iopub.status.busy": "2021-05-27T14:17:33.214570Z",
     "iopub.status.idle": "2021-05-27T14:17:33.247884Z",
     "shell.execute_reply": "2021-05-27T14:17:33.247172Z"
    },
    "papermill": {
     "duration": 0.105253,
     "end_time": "2021-05-27T14:17:33.248062",
     "exception": false,
     "start_time": "2021-05-27T14:17:33.142809",
     "status": "completed"
    },
    "tags": []
   },
   "outputs": [
    {
     "name": "stdout",
     "output_type": "stream",
     "text": [
      "Training Accuracy: % 84.23\n",
      "Testing Accuracy: % 68.14\n"
     ]
    }
   ],
   "source": [
    "logmodel.fit(X_train, y_train)\n",
    "acc_log_train = round(logmodel.score(X_train, y_train)*100,2) \n",
    "acc_log_test = round(logmodel.score(X_test,y_test)*100,2)\n",
    "print(\"Training Accuracy: % {}\".format(acc_log_train))\n",
    "print(\"Testing Accuracy: % {}\".format(acc_log_test))\n"
   ]
  },
  {
   "cell_type": "code",
   "execution_count": 59,
   "metadata": {
    "execution": {
     "iopub.execute_input": "2021-05-27T14:17:33.387472Z",
     "iopub.status.busy": "2021-05-27T14:17:33.385625Z",
     "iopub.status.idle": "2021-05-27T14:17:33.389265Z",
     "shell.execute_reply": "2021-05-27T14:17:33.389722Z"
    },
    "papermill": {
     "duration": 0.075788,
     "end_time": "2021-05-27T14:17:33.389866",
     "exception": false,
     "start_time": "2021-05-27T14:17:33.314078",
     "status": "completed"
    },
    "tags": []
   },
   "outputs": [],
   "source": [
    "prediction = logmodel.predict(X_test)"
   ]
  },
  {
   "cell_type": "code",
   "execution_count": 60,
   "metadata": {
    "execution": {
     "iopub.execute_input": "2021-05-27T14:17:33.522766Z",
     "iopub.status.busy": "2021-05-27T14:17:33.521891Z",
     "iopub.status.idle": "2021-05-27T14:17:33.529059Z",
     "shell.execute_reply": "2021-05-27T14:17:33.529446Z"
    },
    "papermill": {
     "duration": 0.074984,
     "end_time": "2021-05-27T14:17:33.529580",
     "exception": false,
     "start_time": "2021-05-27T14:17:33.454596",
     "status": "completed"
    },
    "tags": []
   },
   "outputs": [
    {
     "data": {
      "text/plain": [
       "array([0., 0., 0., 1., 0., 0., 1., 1., 1., 0., 0., 0., 0., 0., 1., 0., 0.,\n",
       "       0., 0., 0., 0., 1., 0., 0., 0., 1., 0., 0., 0., 0., 0., 0., 0., 0.,\n",
       "       0., 0., 0., 0., 0., 0., 0., 0., 0., 0., 0., 0., 0., 1., 0., 0., 0.,\n",
       "       0., 0., 0., 0., 0., 0., 0., 0., 0., 0., 0., 0., 0., 0., 0., 0., 0.,\n",
       "       1., 0., 0., 0., 0., 0., 0., 0., 1., 0., 0., 0., 0., 0., 0., 0., 0.,\n",
       "       1., 1., 0., 0., 1., 0., 0., 1., 0., 0., 0., 0., 0., 0., 0., 0., 0.,\n",
       "       0., 0., 0., 0., 0., 0., 0., 0., 0., 0., 0., 0., 0., 0., 0., 1., 0.,\n",
       "       0., 0., 0., 0., 0., 0., 0., 0., 0., 0., 0., 0., 0., 0., 0., 0., 0.,\n",
       "       0., 0., 0., 0., 0., 0., 0., 0., 0., 0., 0., 0., 1., 0., 0., 0., 0.,\n",
       "       0., 0., 0., 0., 0., 0., 0., 0., 0., 0., 0., 0., 0., 0., 0., 0., 0.,\n",
       "       0., 0., 0., 0., 0., 0., 1., 0., 0., 0., 0., 0., 0., 0., 0., 0., 0.,\n",
       "       0., 0., 0., 0., 0., 0., 0., 0., 0., 0., 0., 0., 0., 0., 0., 0., 0.,\n",
       "       0., 0., 0., 0., 0., 0., 0., 0., 0., 0., 0., 0., 0., 0., 0., 1., 0.,\n",
       "       1., 0., 0., 0., 0., 0., 0., 0., 0., 0., 0., 0., 0., 0., 0., 1., 1.,\n",
       "       0., 0., 0., 0., 0., 0., 1., 0., 0., 0., 0., 0., 0., 0., 0., 0., 0.,\n",
       "       0., 0., 0., 0., 0., 0., 0., 0., 0., 0., 0., 0., 0., 0., 0., 0., 0.,\n",
       "       0., 0., 1., 0., 0., 0., 0., 0., 0., 0., 0., 0., 0., 0., 0., 0., 0.,\n",
       "       0., 0., 0., 0., 0., 0.])"
      ]
     },
     "execution_count": 60,
     "metadata": {},
     "output_type": "execute_result"
    }
   ],
   "source": [
    "prediction"
   ]
  },
  {
   "cell_type": "markdown",
   "metadata": {
    "papermill": {
     "duration": 0.064645,
     "end_time": "2021-05-27T14:17:33.658812",
     "exception": false,
     "start_time": "2021-05-27T14:17:33.594167",
     "status": "completed"
    },
    "tags": []
   },
   "source": [
    "**Confusion Matrix**"
   ]
  },
  {
   "cell_type": "code",
   "execution_count": 61,
   "metadata": {
    "execution": {
     "iopub.execute_input": "2021-05-27T14:17:33.792089Z",
     "iopub.status.busy": "2021-05-27T14:17:33.791183Z",
     "iopub.status.idle": "2021-05-27T14:17:33.801595Z",
     "shell.execute_reply": "2021-05-27T14:17:33.801149Z"
    },
    "papermill": {
     "duration": 0.077865,
     "end_time": "2021-05-27T14:17:33.801711",
     "exception": false,
     "start_time": "2021-05-27T14:17:33.723846",
     "status": "completed"
    },
    "tags": []
   },
   "outputs": [
    {
     "data": {
      "text/plain": [
       "array([[181,   3],\n",
       "       [ 91,  20]])"
      ]
     },
     "execution_count": 61,
     "metadata": {},
     "output_type": "execute_result"
    }
   ],
   "source": [
    "from sklearn.metrics import confusion_matrix\n",
    "prediction = logmodel.predict(X_test)\n",
    "cm = confusion_matrix(y_test, prediction)\n",
    "cm\n"
   ]
  },
  {
   "cell_type": "code",
   "execution_count": 62,
   "metadata": {
    "execution": {
     "iopub.execute_input": "2021-05-27T14:17:33.937849Z",
     "iopub.status.busy": "2021-05-27T14:17:33.937243Z",
     "iopub.status.idle": "2021-05-27T14:17:33.940253Z",
     "shell.execute_reply": "2021-05-27T14:17:33.939660Z"
    },
    "papermill": {
     "duration": 0.072759,
     "end_time": "2021-05-27T14:17:33.940357",
     "exception": false,
     "start_time": "2021-05-27T14:17:33.867598",
     "status": "completed"
    },
    "tags": []
   },
   "outputs": [],
   "source": [
    "from sklearn.model_selection import cross_val_score"
   ]
  },
  {
   "cell_type": "markdown",
   "metadata": {
    "papermill": {
     "duration": 0.067201,
     "end_time": "2021-05-27T14:17:34.074321",
     "exception": false,
     "start_time": "2021-05-27T14:17:34.007120",
     "status": "completed"
    },
    "tags": []
   },
   "source": [
    "**Logistic Regression**"
   ]
  },
  {
   "cell_type": "code",
   "execution_count": 63,
   "metadata": {
    "execution": {
     "iopub.execute_input": "2021-05-27T14:17:34.211526Z",
     "iopub.status.busy": "2021-05-27T14:17:34.210918Z",
     "iopub.status.idle": "2021-05-27T14:17:34.265525Z",
     "shell.execute_reply": "2021-05-27T14:17:34.266177Z"
    },
    "papermill": {
     "duration": 0.126876,
     "end_time": "2021-05-27T14:17:34.266382",
     "exception": false,
     "start_time": "2021-05-27T14:17:34.139506",
     "status": "completed"
    },
    "tags": []
   },
   "outputs": [
    {
     "name": "stdout",
     "output_type": "stream",
     "text": [
      "[0.84166667 0.79831933 0.81512605 0.82352941 0.86554622]\n",
      "0.8288375350140054\n"
     ]
    }
   ],
   "source": [
    "lr = LogisticRegression(max_iter = 2000)\n",
    "cv = cross_val_score(lr , X_train , y_train , cv = 5)\n",
    "print(cv)\n",
    "print(cv.mean())"
   ]
  },
  {
   "cell_type": "markdown",
   "metadata": {
    "papermill": {
     "duration": 0.065469,
     "end_time": "2021-05-27T14:17:34.405080",
     "exception": false,
     "start_time": "2021-05-27T14:17:34.339611",
     "status": "completed"
    },
    "tags": []
   },
   "source": [
    "**Random Forest** "
   ]
  },
  {
   "cell_type": "code",
   "execution_count": 64,
   "metadata": {
    "execution": {
     "iopub.execute_input": "2021-05-27T14:17:34.545382Z",
     "iopub.status.busy": "2021-05-27T14:17:34.544755Z",
     "iopub.status.idle": "2021-05-27T14:17:35.683190Z",
     "shell.execute_reply": "2021-05-27T14:17:35.682680Z"
    },
    "papermill": {
     "duration": 1.208959,
     "end_time": "2021-05-27T14:17:35.683303",
     "exception": false,
     "start_time": "2021-05-27T14:17:34.474344",
     "status": "completed"
    },
    "tags": []
   },
   "outputs": [
    {
     "name": "stdout",
     "output_type": "stream",
     "text": [
      "[0.76666667 0.79831933 0.79831933 0.76470588 0.81512605]\n",
      "0.7886274509803922\n"
     ]
    }
   ],
   "source": [
    "from sklearn.ensemble import RandomForestClassifier\n",
    "rf = RandomForestClassifier(random_state = 1)\n",
    "cv = cross_val_score(rf , X_train , y_train , cv = 5)\n",
    "print(cv)\n",
    "print(cv.mean())\n"
   ]
  },
  {
   "cell_type": "markdown",
   "metadata": {
    "papermill": {
     "duration": 0.069936,
     "end_time": "2021-05-27T14:17:35.823316",
     "exception": false,
     "start_time": "2021-05-27T14:17:35.753380",
     "status": "completed"
    },
    "tags": []
   },
   "source": [
    "**Support Vector Classifier**"
   ]
  },
  {
   "cell_type": "code",
   "execution_count": 65,
   "metadata": {
    "execution": {
     "iopub.execute_input": "2021-05-27T14:17:35.961508Z",
     "iopub.status.busy": "2021-05-27T14:17:35.960957Z",
     "iopub.status.idle": "2021-05-27T14:17:36.220780Z",
     "shell.execute_reply": "2021-05-27T14:17:36.220281Z"
    },
    "papermill": {
     "duration": 0.330725,
     "end_time": "2021-05-27T14:17:36.220889",
     "exception": false,
     "start_time": "2021-05-27T14:17:35.890164",
     "status": "completed"
    },
    "tags": []
   },
   "outputs": [
    {
     "name": "stdout",
     "output_type": "stream",
     "text": [
      "[0.78333333 0.81512605 0.78991597 0.78151261 0.85714286]\n",
      "0.805406162464986\n"
     ]
    }
   ],
   "source": [
    "from sklearn.svm import SVC\n",
    "svc = SVC(probability = True)\n",
    "cv = cross_val_score(svc , X_train , y_train , cv = 5)\n",
    "print(cv)\n",
    "print(cv.mean())"
   ]
  },
  {
   "cell_type": "markdown",
   "metadata": {
    "papermill": {
     "duration": 0.065707,
     "end_time": "2021-05-27T14:17:36.352362",
     "exception": false,
     "start_time": "2021-05-27T14:17:36.286655",
     "status": "completed"
    },
    "tags": []
   },
   "source": [
    "**Voting Classifiers**"
   ]
  },
  {
   "cell_type": "code",
   "execution_count": 66,
   "metadata": {
    "execution": {
     "iopub.execute_input": "2021-05-27T14:17:36.490855Z",
     "iopub.status.busy": "2021-05-27T14:17:36.490252Z",
     "iopub.status.idle": "2021-05-27T14:17:37.618678Z",
     "shell.execute_reply": "2021-05-27T14:17:37.618161Z"
    },
    "papermill": {
     "duration": 1.199561,
     "end_time": "2021-05-27T14:17:37.618807",
     "exception": false,
     "start_time": "2021-05-27T14:17:36.419246",
     "status": "completed"
    },
    "tags": []
   },
   "outputs": [
    {
     "name": "stdout",
     "output_type": "stream",
     "text": [
      "[0.81666667 0.82352941 0.83193277 0.81512605 0.85714286]\n",
      "0.8288795518207281\n"
     ]
    }
   ],
   "source": [
    "from sklearn.ensemble import VotingClassifier \n",
    "voting = VotingClassifier(estimators = [('LogisticRegression' , lr) , ('RandomForest' , rf) , ('Support Vector Classifier' , svc)] ,  voting = 'soft')\n",
    "cv = cross_val_score(voting , X_train , y_train , cv = 5)\n",
    "print(cv)\n",
    "print(cv.mean())"
   ]
  },
  {
   "cell_type": "code",
   "execution_count": 67,
   "metadata": {
    "execution": {
     "iopub.execute_input": "2021-05-27T14:17:37.754575Z",
     "iopub.status.busy": "2021-05-27T14:17:37.753717Z",
     "iopub.status.idle": "2021-05-27T14:17:38.016109Z",
     "shell.execute_reply": "2021-05-27T14:17:38.015392Z"
    },
    "papermill": {
     "duration": 0.331435,
     "end_time": "2021-05-27T14:17:38.016247",
     "exception": false,
     "start_time": "2021-05-27T14:17:37.684812",
     "status": "completed"
    },
    "tags": []
   },
   "outputs": [
    {
     "data": {
      "text/plain": [
       "VotingClassifier(estimators=[('LogisticRegression',\n",
       "                              LogisticRegression(max_iter=2000)),\n",
       "                             ('RandomForest',\n",
       "                              RandomForestClassifier(random_state=1)),\n",
       "                             ('Support Vector Classifier',\n",
       "                              SVC(probability=True))],\n",
       "                 voting='soft')"
      ]
     },
     "execution_count": 67,
     "metadata": {},
     "output_type": "execute_result"
    }
   ],
   "source": [
    "voting.fit(X_train , y_train)"
   ]
  },
  {
   "cell_type": "code",
   "execution_count": 68,
   "metadata": {
    "execution": {
     "iopub.execute_input": "2021-05-27T14:17:38.159046Z",
     "iopub.status.busy": "2021-05-27T14:17:38.158235Z",
     "iopub.status.idle": "2021-05-27T14:17:38.180531Z",
     "shell.execute_reply": "2021-05-27T14:17:38.180027Z"
    },
    "papermill": {
     "duration": 0.097616,
     "end_time": "2021-05-27T14:17:38.180634",
     "exception": false,
     "start_time": "2021-05-27T14:17:38.083018",
     "status": "completed"
    },
    "tags": []
   },
   "outputs": [
    {
     "name": "stdout",
     "output_type": "stream",
     "text": [
      "0.678\n"
     ]
    }
   ],
   "source": [
    "from sklearn.metrics import accuracy_score\n",
    "voting_accy = round(accuracy_score(voting.predict(X_test) , y_test), 3)\n",
    "print(voting_accy)"
   ]
  },
  {
   "cell_type": "markdown",
   "metadata": {
    "papermill": {
     "duration": 0.067216,
     "end_time": "2021-05-27T14:17:38.315592",
     "exception": false,
     "start_time": "2021-05-27T14:17:38.248376",
     "status": "completed"
    },
    "tags": []
   },
   "source": [
    "**SUBMITTING THE TEST PREDICTIONS**"
   ]
  },
  {
   "cell_type": "code",
   "execution_count": 69,
   "metadata": {
    "execution": {
     "iopub.execute_input": "2021-05-27T14:17:38.457036Z",
     "iopub.status.busy": "2021-05-27T14:17:38.456058Z",
     "iopub.status.idle": "2021-05-27T14:17:38.733281Z",
     "shell.execute_reply": "2021-05-27T14:17:38.732821Z"
    },
    "papermill": {
     "duration": 0.350786,
     "end_time": "2021-05-27T14:17:38.733386",
     "exception": false,
     "start_time": "2021-05-27T14:17:38.382600",
     "status": "completed"
    },
    "tags": []
   },
   "outputs": [
    {
     "data": {
      "text/html": [
       "<div>\n",
       "<style scoped>\n",
       "    .dataframe tbody tr th:only-of-type {\n",
       "        vertical-align: middle;\n",
       "    }\n",
       "\n",
       "    .dataframe tbody tr th {\n",
       "        vertical-align: top;\n",
       "    }\n",
       "\n",
       "    .dataframe thead th {\n",
       "        text-align: right;\n",
       "    }\n",
       "</style>\n",
       "<table border=\"1\" class=\"dataframe\">\n",
       "  <thead>\n",
       "    <tr style=\"text-align: right;\">\n",
       "      <th></th>\n",
       "      <th>PassengerId</th>\n",
       "      <th>Survived</th>\n",
       "    </tr>\n",
       "  </thead>\n",
       "  <tbody>\n",
       "    <tr>\n",
       "      <th>0</th>\n",
       "      <td>892</td>\n",
       "      <td>0</td>\n",
       "    </tr>\n",
       "    <tr>\n",
       "      <th>1</th>\n",
       "      <td>893</td>\n",
       "      <td>0</td>\n",
       "    </tr>\n",
       "    <tr>\n",
       "      <th>2</th>\n",
       "      <td>894</td>\n",
       "      <td>0</td>\n",
       "    </tr>\n",
       "    <tr>\n",
       "      <th>3</th>\n",
       "      <td>895</td>\n",
       "      <td>0</td>\n",
       "    </tr>\n",
       "    <tr>\n",
       "      <th>4</th>\n",
       "      <td>896</td>\n",
       "      <td>1</td>\n",
       "    </tr>\n",
       "  </tbody>\n",
       "</table>\n",
       "</div>"
      ],
      "text/plain": [
       "   PassengerId  Survived\n",
       "0          892         0\n",
       "1          893         0\n",
       "2          894         0\n",
       "3          895         0\n",
       "4          896         1"
      ]
     },
     "execution_count": 69,
     "metadata": {},
     "output_type": "execute_result"
    }
   ],
   "source": [
    "predictions = voting.predict(test)\n",
    "output = pd.DataFrame({'PassengerId': passengerid , 'Survived': predictions })\n",
    "output.PassengerId = output.PassengerId.astype(int)\n",
    "output.Survived = output.Survived.astype(int)\n",
    "output.to_csv('My_Submission.csv', index=False)\n",
    "output.head()"
   ]
  }
 ],
 "metadata": {
  "kernelspec": {
   "display_name": "Python 3",
   "language": "python",
   "name": "python3"
  },
  "language_info": {
   "codemirror_mode": {
    "name": "ipython",
    "version": 3
   },
   "file_extension": ".py",
   "mimetype": "text/x-python",
   "name": "python",
   "nbconvert_exporter": "python",
   "pygments_lexer": "ipython3",
   "version": "3.7.6"
  },
  "papermill": {
   "duration": 23.817891,
   "end_time": "2021-05-27T14:17:38.908423",
   "environment_variables": {},
   "exception": null,
   "input_path": "__notebook__.ipynb",
   "output_path": "__notebook__.ipynb",
   "parameters": {},
   "start_time": "2021-05-27T14:17:15.090532",
   "version": "2.1.0"
  }
 },
 "nbformat": 4,
 "nbformat_minor": 4
}
